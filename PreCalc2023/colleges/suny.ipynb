{
 "cells": [
  {
   "cell_type": "raw",
   "metadata": {
    "slideshow": {
     "slide_type": "skip"
    }
   },
   "source": [
    "---\n",
    "title: \"SUNY Colleges Analysis\"\n",
    "format:\n",
    "    html:\n",
    "        code-fold: true\n",
    "execute:\n",
    "    enabled: true\n",
    "jupyter: python3\n",
    "---"
   ]
  },
  {
   "cell_type": "code",
   "execution_count": 1,
   "metadata": {
    "slideshow": {
     "slide_type": "skip"
    }
   },
   "outputs": [
    {
     "data": {
      "text/plain": [
       "'/Users/chris/GitHub/chrishuson.github.io/PreCalc2023/colleges'"
      ]
     },
     "execution_count": 1,
     "metadata": {},
     "output_type": "execute_result"
    }
   ],
   "source": [
    "import os\n",
    "import sys\n",
    "\n",
    "import pandas as pd\n",
    "#pd.set_option('display.max_colwidth', None) # Wrap text in cells to show all of large fields\n",
    "#pd.options.display.float_format = '{:.3f}'.format # 3 decimal places\n",
    "import numpy as np\n",
    "#import plotly_express as px\n",
    "#import seaborn as sns\n",
    "import matplotlib.pyplot as plt\n",
    "%matplotlib inline\n",
    "\n",
    "os.getcwd() #listdir(), mkdir(), chdir()\n",
    "#pd.show_versions(as_json=False)"
   ]
  },
  {
   "cell_type": "code",
   "execution_count": 16,
   "metadata": {},
   "outputs": [
    {
     "data": {
      "text/html": [
       "<div>\n",
       "<style scoped>\n",
       "    .dataframe tbody tr th:only-of-type {\n",
       "        vertical-align: middle;\n",
       "    }\n",
       "\n",
       "    .dataframe tbody tr th {\n",
       "        vertical-align: top;\n",
       "    }\n",
       "\n",
       "    .dataframe thead th {\n",
       "        text-align: right;\n",
       "    }\n",
       "</style>\n",
       "<table border=\"1\" class=\"dataframe\">\n",
       "  <thead>\n",
       "    <tr style=\"text-align: right;\">\n",
       "      <th></th>\n",
       "      <th>UnitID</th>\n",
       "      <th>Institution Name</th>\n",
       "      <th>Graduation rate - Bachelor degree within 4 years  total (DRVGR2021)</th>\n",
       "      <th>Graduation rate - Bachelor degree within 6 years  total (DRVGR2021)</th>\n",
       "      <th>SAT Math 75th percentile score (ADM2021)</th>\n",
       "      <th>SAT Math 25th percentile score (ADM2021)</th>\n",
       "      <th>SAT Evidence-Based Reading and Writing 75th percentile score (ADM2021)</th>\n",
       "      <th>SAT Evidence-Based Reading and Writing 25th percentile score (ADM2021)</th>\n",
       "      <th>Full-time retention rate  2021 (EF2021D)</th>\n",
       "      <th>Total entering students at the undergraduate level  fall 2021 (EF2021D)</th>\n",
       "      <th>Unnamed: 10</th>\n",
       "    </tr>\n",
       "  </thead>\n",
       "  <tbody>\n",
       "    <tr>\n",
       "      <th>0</th>\n",
       "      <td>196097</td>\n",
       "      <td>Stony Brook University</td>\n",
       "      <td>64</td>\n",
       "      <td>78</td>\n",
       "      <td>770.0</td>\n",
       "      <td>670.0</td>\n",
       "      <td>710.0</td>\n",
       "      <td>630.0</td>\n",
       "      <td>89</td>\n",
       "      <td>4906</td>\n",
       "      <td>NaN</td>\n",
       "    </tr>\n",
       "    <tr>\n",
       "      <th>1</th>\n",
       "      <td>196060</td>\n",
       "      <td>SUNY at Albany</td>\n",
       "      <td>59</td>\n",
       "      <td>66</td>\n",
       "      <td>640.0</td>\n",
       "      <td>540.0</td>\n",
       "      <td>640.0</td>\n",
       "      <td>550.0</td>\n",
       "      <td>82</td>\n",
       "      <td>4152</td>\n",
       "      <td>NaN</td>\n",
       "    </tr>\n",
       "    <tr>\n",
       "      <th>2</th>\n",
       "      <td>196158</td>\n",
       "      <td>SUNY at Fredonia</td>\n",
       "      <td>47</td>\n",
       "      <td>62</td>\n",
       "      <td>630.0</td>\n",
       "      <td>550.0</td>\n",
       "      <td>650.0</td>\n",
       "      <td>540.0</td>\n",
       "      <td>73</td>\n",
       "      <td>1027</td>\n",
       "      <td>NaN</td>\n",
       "    </tr>\n",
       "    <tr>\n",
       "      <th>3</th>\n",
       "      <td>196219</td>\n",
       "      <td>SUNY at Purchase College</td>\n",
       "      <td>56</td>\n",
       "      <td>63</td>\n",
       "      <td>650.0</td>\n",
       "      <td>540.0</td>\n",
       "      <td>670.0</td>\n",
       "      <td>580.0</td>\n",
       "      <td>79</td>\n",
       "      <td>933</td>\n",
       "      <td>NaN</td>\n",
       "    </tr>\n",
       "    <tr>\n",
       "      <th>4</th>\n",
       "      <td>196167</td>\n",
       "      <td>SUNY College at Geneseo</td>\n",
       "      <td>69</td>\n",
       "      <td>76</td>\n",
       "      <td>660.0</td>\n",
       "      <td>590.0</td>\n",
       "      <td>660.0</td>\n",
       "      <td>570.0</td>\n",
       "      <td>83</td>\n",
       "      <td>1200</td>\n",
       "      <td>NaN</td>\n",
       "    </tr>\n",
       "  </tbody>\n",
       "</table>\n",
       "</div>"
      ],
      "text/plain": [
       "   UnitID          Institution Name  \\\n",
       "0  196097    Stony Brook University   \n",
       "1  196060            SUNY at Albany   \n",
       "2  196158          SUNY at Fredonia   \n",
       "3  196219  SUNY at Purchase College   \n",
       "4  196167   SUNY College at Geneseo   \n",
       "\n",
       "   Graduation rate - Bachelor degree within 4 years  total (DRVGR2021)  \\\n",
       "0                                                 64                     \n",
       "1                                                 59                     \n",
       "2                                                 47                     \n",
       "3                                                 56                     \n",
       "4                                                 69                     \n",
       "\n",
       "   Graduation rate - Bachelor degree within 6 years  total (DRVGR2021)  \\\n",
       "0                                                 78                     \n",
       "1                                                 66                     \n",
       "2                                                 62                     \n",
       "3                                                 63                     \n",
       "4                                                 76                     \n",
       "\n",
       "   SAT Math 75th percentile score (ADM2021)  \\\n",
       "0                                     770.0   \n",
       "1                                     640.0   \n",
       "2                                     630.0   \n",
       "3                                     650.0   \n",
       "4                                     660.0   \n",
       "\n",
       "   SAT Math 25th percentile score (ADM2021)  \\\n",
       "0                                     670.0   \n",
       "1                                     540.0   \n",
       "2                                     550.0   \n",
       "3                                     540.0   \n",
       "4                                     590.0   \n",
       "\n",
       "   SAT Evidence-Based Reading and Writing 75th percentile score (ADM2021)  \\\n",
       "0                                              710.0                        \n",
       "1                                              640.0                        \n",
       "2                                              650.0                        \n",
       "3                                              670.0                        \n",
       "4                                              660.0                        \n",
       "\n",
       "   SAT Evidence-Based Reading and Writing 25th percentile score (ADM2021)  \\\n",
       "0                                              630.0                        \n",
       "1                                              550.0                        \n",
       "2                                              540.0                        \n",
       "3                                              580.0                        \n",
       "4                                              570.0                        \n",
       "\n",
       "   Full-time retention rate  2021 (EF2021D)  \\\n",
       "0                                        89   \n",
       "1                                        82   \n",
       "2                                        73   \n",
       "3                                        79   \n",
       "4                                        83   \n",
       "\n",
       "   Total entering students at the undergraduate level  fall 2021 (EF2021D)  \\\n",
       "0                                               4906                         \n",
       "1                                               4152                         \n",
       "2                                               1027                         \n",
       "3                                                933                         \n",
       "4                                               1200                         \n",
       "\n",
       "   Unnamed: 10  \n",
       "0          NaN  \n",
       "1          NaN  \n",
       "2          NaN  \n",
       "3          NaN  \n",
       "4          NaN  "
      ]
     },
     "execution_count": 16,
     "metadata": {},
     "output_type": "execute_result"
    }
   ],
   "source": [
    "df = pd.read_csv('nces.csv')\n",
    "df.drop(columns=['Unnamed: 10'], inplace=True)\n",
    "df.head()"
   ]
  },
  {
   "cell_type": "code",
   "execution_count": 17,
   "metadata": {},
   "outputs": [
    {
     "data": {
      "text/plain": [
       "Index(['UnitID', 'Institution Name',\n",
       "       'Graduation rate - Bachelor degree within 4 years  total (DRVGR2021)',\n",
       "       'Graduation rate - Bachelor degree within 6 years  total (DRVGR2021)',\n",
       "       'SAT Math 75th percentile score (ADM2021)',\n",
       "       'SAT Math 25th percentile score (ADM2021)',\n",
       "       'SAT Evidence-Based Reading and Writing 75th percentile score (ADM2021)',\n",
       "       'SAT Evidence-Based Reading and Writing 25th percentile score (ADM2021)',\n",
       "       'Full-time retention rate  2021 (EF2021D)',\n",
       "       'Total entering students at the undergraduate level  fall 2021 (EF2021D)',\n",
       "       'Unnamed: 10'],\n",
       "      dtype='object')"
      ]
     },
     "execution_count": 17,
     "metadata": {},
     "output_type": "execute_result"
    }
   ],
   "source": [
    "df.columns"
   ]
  },
  {
   "cell_type": "code",
   "execution_count": 18,
   "metadata": {},
   "outputs": [
    {
     "data": {
      "text/plain": [
       "Index(['UnitID', 'Institution Name',\n",
       "       'Graduation rate - Bachelor degree within 4 years  total (DRVGR2021)',\n",
       "       'Graduation rate - Bachelor degree within 6 years  total (DRVGR2021)',\n",
       "       'SAT Math 75th percentile score (ADM2021)',\n",
       "       'SAT Math 25th percentile score (ADM2021)',\n",
       "       'SAT Evidence-Based Reading and Writing 75th percentile score (ADM2021)',\n",
       "       'SAT Evidence-Based Reading and Writing 25th percentile score (ADM2021)',\n",
       "       'Full-time retention rate  2021 (EF2021D)',\n",
       "       'Total entering students at the undergraduate level  fall 2021 (EF2021D)'],\n",
       "      dtype='object')"
      ]
     },
     "execution_count": 18,
     "metadata": {},
     "output_type": "execute_result"
    }
   ],
   "source": [
    "\n",
    "df.columns"
   ]
  },
  {
   "cell_type": "code",
   "execution_count": null,
   "metadata": {},
   "outputs": [],
   "source": []
  }
 ],
 "metadata": {
  "kernelspec": {
   "display_name": "base",
   "language": "python",
   "name": "python3"
  },
  "language_info": {
   "codemirror_mode": {
    "name": "ipython",
    "version": 3
   },
   "file_extension": ".py",
   "mimetype": "text/x-python",
   "name": "python",
   "nbconvert_exporter": "python",
   "pygments_lexer": "ipython3",
   "version": "3.9.12 (main, Apr  5 2022, 01:53:17) \n[Clang 12.0.0 ]"
  },
  "orig_nbformat": 4,
  "vscode": {
   "interpreter": {
    "hash": "8a5edab282632443219e051e4ade2d1d5bbc671c781051bf1437897cbdfea0f1"
   }
  }
 },
 "nbformat": 4,
 "nbformat_minor": 2
}
