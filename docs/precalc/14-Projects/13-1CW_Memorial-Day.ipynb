{
 "cells": [
  {
   "cell_type": "raw",
   "metadata": {
    "slideshow": {
     "slide_type": "skip"
    }
   },
   "source": [
    "---\n",
    "title: \"Memorial Day slides\"\n",
    "format:\n",
    "    html:\n",
    "        code-fold: true\n",
    "execute:\n",
    "    enabled: true\n",
    "jupyter: python3\n",
    "---"
   ]
  },
  {
   "attachments": {},
   "cell_type": "markdown",
   "metadata": {
    "slideshow": {
     "slide_type": "skip"
    }
   },
   "source": [
    "### Initializations"
   ]
  },
  {
   "cell_type": "code",
   "execution_count": 3,
   "metadata": {},
   "outputs": [],
   "source": [
    "import os\n",
    "import sys\n",
    "\n",
    "import pandas as pd\n",
    "import numpy as np\n",
    "import matplotlib.pyplot as plt\n",
    "%matplotlib inline\n",
    "\n",
    "#os.getcwd()"
   ]
  },
  {
   "attachments": {},
   "cell_type": "markdown",
   "metadata": {
    "slideshow": {
     "slide_type": "slide"
    }
   },
   "source": [
    "# 13.1 Memorial Day\n",
    "\n",
    "Learning target: I can understand the history and significance of Memorial Day through the interpretation of graphs and data related to war causalities.\n",
    "\n",
    "Do Now: What war or wars come to mind when you think of Memorial Day? \n",
    "\n",
    "Quantitatively, what do you think is the most significant war in US history? Why?\n",
    "\n",
    "[Arlington National Cemetery](https://www.history.com/topics/holidays/memorial-day-history)"
   ]
  },
  {
   "attachments": {},
   "cell_type": "markdown",
   "metadata": {
    "slideshow": {
     "slide_type": "slide"
    }
   },
   "source": [
    "## What war had the most US casualties?\n",
    "\n",
    "[Statista](https://www.statista.com/statistics/1009819/total-us-military-fatalities-in-american-wars-1775-present/)"
   ]
  },
  {
   "attachments": {},
   "cell_type": "markdown",
   "metadata": {
    "slideshow": {
     "slide_type": "slide"
    }
   },
   "source": [
    "## As a percentage of the US population, what war had the most US casualties?\n",
    "\n",
    "[KQED](https://www.kqed.org/lowdown/22209/interactive-american-war-deaths-by-the-numbers)\n",
    "\n",
    "[Department of Veterans Affairs](https://www.va.gov/opa/publications/factsheets/fs_americas_wars.pdf)\n",
    "\n",
    "[King Philip's War](https://www.wolframalpha.com/input?i=King+Philip%27s+War&assumption=%22ClashPrefs%22+-%3E+%7B%22MilitaryConflict%22%2C+%22KingPhilipsWar%22%7D)"
   ]
  },
  {
   "attachments": {},
   "cell_type": "markdown",
   "metadata": {
    "slideshow": {
     "slide_type": "slide"
    }
   },
   "source": [
    "## Wars between nations versus civil wars\n",
    "\n",
    "[January 6, 2021](https://www.wsj.com/articles/jan-6-capitol-attack-the-rioters-legal-reckoning-visualized-af640d5c)\n",
    "\n"
   ]
  }
 ],
 "metadata": {
  "kernelspec": {
   "display_name": "Python 3",
   "language": "python",
   "name": "python3"
  },
  "language_info": {
   "codemirror_mode": {
    "name": "ipython",
    "version": 3
   },
   "file_extension": ".py",
   "mimetype": "text/x-python",
   "name": "python",
   "nbconvert_exporter": "python",
   "pygments_lexer": "ipython3",
   "version": "3.9.12"
  },
  "orig_nbformat": 4
 },
 "nbformat": 4,
 "nbformat_minor": 2
}
