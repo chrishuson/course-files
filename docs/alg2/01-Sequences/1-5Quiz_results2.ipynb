{
 "cells": [
  {
   "cell_type": "code",
   "execution_count": null,
   "metadata": {
    "slideshow": {
     "slide_type": "skip"
    }
   },
   "outputs": [],
   "source": [
    "---\n",
    "title: \"Sequences quiz results\"\n",
    "hide_input: true\n",
    "format:\n",
    "    html:\n",
    "        code-fold: true\n",
    "execute:\n",
    "    enabled: true\n",
    "jupyter: python3\n",
    "---"
   ]
  },
  {
   "cell_type": "markdown",
   "metadata": {},
   "source": [
    "# Sequences quiz results"
   ]
  },
  {
   "cell_type": "markdown",
   "metadata": {
    "slideshow": {
     "slide_type": "slide"
    }
   },
   "source": [
    "1. Use the function $f(x)=-3x+7$ to answer the following questions.\n",
    "\n",
    "    a. What is $f(0)$?\n",
    "    b. What is $f(\\frac{1}{3})$?\n",
    "    c. What is $f(-5)$?\n",
    "    d. What is $x$ when $f(x)=-20$?\n",
    "\n",
    "2. A city bus charges \\$0.25 per ride if you first buy the \\$10 discount card. Let $B$ be the total cost, in dollars, of taking $n$ rides on the bus.\n",
    "\n",
    "    a. Complete the table for function $B$ for several inputs.\n",
    "    b. Sketch a graph of the total cost $B$, in dollars, for the number of bus rides from 0 to 10.\n",
    "    c. Write an equation for $B$ as a function of $n$.\n",
    "\n",
    "8.EE.A.1 Know and apply the properties of integer exponents to generate equivalent numerical expressions. \n",
    "\n",
    "3. Select all the expressions that are equivalent to $2 \\cdot 2 \\cdot 2 \\cdot 2 \\cdot 2 \\cdot 2$. \n",
    "\n",
    "    A. $2^6$\n",
    "    B. $2 \\cdot 6$\n",
    "    C. $(2^2)^3$\n",
    "    D. $2^3 + 2^3$\n",
    "    E. $2^2 + 2^2 + 2^2$\n",
    "    F. $6^2$\n",
    "    G. $2^3 \\cdot 2^3$\n",
    "    H. $(2^3)^2$\n"
   ]
  },
  {
   "cell_type": "code",
   "execution_count": 15,
   "metadata": {},
   "outputs": [
    {
     "data": {
      "image/png": "[encoded data removed]",
      "text/plain": [
       "<Figure size 432x288 with 1 Axes>"
      ]
     },
     "metadata": {
      "needs_background": "light"
     },
     "output_type": "display_data"
    }
   ],
   "source": [
    "# Import libraries\n",
    "import pandas as pd\n",
    "import numpy as np\n",
    "import seaborn as sns\n",
    "import matplotlib.pyplot as plt\n",
    "%matplotlib inline\n",
    "\n",
    "# Create DataFrame from quiz data along with the score list, using '0' instead of NaN\n",
    "data = {\n",
    "    'Score': [1, 2, 2.5, 3, 3.5, 4],\n",
    "    'Sequences': [2, 13, 3, 28, 15, 20],\n",
    "    'Algebra': [25, 10, 0, 22, 0, 24],\n",
    "    'Linear word problem': [37, 16, 0, 7, 0, 21],\n",
    "    'Exponents': [26, 9, 0, 7, 0, 39]\n",
    "}\n",
    "df = pd.DataFrame(data).set_index('Score')\n",
    "\n",
    "# Create stacked bar chart with reversed and transposed DataFrame\n",
    "colors = ['#ADD8E6', '#7FFFD4', '#c7fdb5', '#FFFF00', '#e2ca76', '#ffa756']\n",
    "ax = df.drop('Score', axis=1, errors='ignore').transpose().iloc[::-1].plot(kind='bar', stacked=True, color=colors)\n",
    "\n",
    "# Add labels and title\n",
    "ax.set_xlabel('Mastery Score')\n",
    "ax.set_ylabel('Number of students (n=78)')\n",
    "ax.set_title('Sequences Quiz (plus prior learning scores)')\n",
    "\n",
    "# Add reversed legend\n",
    "ax.legend(df.index[::-1], loc='upper right')\n",
    "\n",
    "# Rotate x-axis labels\n",
    "ax.set_xticklabels(df.columns[::-1], rotation=0)\n",
    "\n",
    "# Show chart\n",
    "plt.show()\n"
   ]
  },
  {
   "cell_type": "code",
   "execution_count": 8,
   "metadata": {},
   "outputs": [
    {
     "data": {
      "image/png": "[encoded data removed]",
      "text/plain": [
       "<Figure size 432x288 with 1 Axes>"
      ]
     },
     "metadata": {
      "needs_background": "light"
     },
     "output_type": "display_data"
    }
   ],
   "source": [
    "\n",
    "import pandas as pd\n",
    "import numpy as np\n",
    "import seaborn as sns\n",
    "import matplotlib.pyplot as plt\n",
    "%matplotlib inline\n",
    "\n",
    "\n",
    "\n",
    "# Create DataFrame from quiz data along with the score list\n",
    "score = [1, 2, 2.5, 3, 3.5, 4]\n",
    "data = {\n",
    "    'Score': score,\n",
    "    'Sequences': [2, 13, 3, 28, 15, 20],\n",
    "    'Algebra': [25, 10, None, 22, None, 24],\n",
    "    'Linear word problem': [37, 16, None, 7, None, 21],\n",
    "    'Exponents': [26, 9, None, 7, None, 39]\n",
    "}\n",
    "df = pd.DataFrame(data)\n",
    "\n",
    "\n",
    "\n",
    "# Create stacked bar chart with reversed and transposed DataFrame\n",
    "colors = ['#ADD8E6', '#7FFFD4', '#c7fdb5', '#FFFF00', '#e2ca76', '#ffa756']\n",
    "ax = df.drop('Score', axis=1).transpose().iloc[::-1].plot(kind='bar', stacked=True, color=colors)\n",
    "\n",
    "# Add labels and title\n",
    "ax.set_xlabel('Mastery Score')\n",
    "ax.set_ylabel('Number of students (n=78)')\n",
    "ax.set_title('Sequences Quiz (plus prior learning scores)')\n",
    "\n",
    "# Add reversed legend\n",
    "ax.legend(score[::-1], loc='upper right')\n",
    "\n",
    "# Rotate x-axis labels\n",
    "# ax.set_xticklabels(df['Score'][::-1], rotation=0)\n",
    "ax.set_xticklabels(df.drop('Score', axis=1).columns[::-1], rotation=0)\n",
    "\n",
    "\n",
    "# Show chart\n",
    "plt.show()"
   ]
  },
  {
   "cell_type": "code",
   "execution_count": 12,
   "metadata": {},
   "outputs": [
    {
     "data": {
      "text/html": [
       "<div>\n",
       "<style scoped>\n",
       "    .dataframe tbody tr th:only-of-type {\n",
       "        vertical-align: middle;\n",
       "    }\n",
       "\n",
       "    .dataframe tbody tr th {\n",
       "        vertical-align: top;\n",
       "    }\n",
       "\n",
       "    .dataframe thead th {\n",
       "        text-align: right;\n",
       "    }\n",
       "</style>\n",
       "<table border=\"1\" class=\"dataframe\">\n",
       "  <thead>\n",
       "    <tr style=\"text-align: right;\">\n",
       "      <th></th>\n",
       "      <th>Sequences</th>\n",
       "      <th>Algebra</th>\n",
       "      <th>Linear word problem</th>\n",
       "      <th>Exponents</th>\n",
       "    </tr>\n",
       "    <tr>\n",
       "      <th>Score</th>\n",
       "      <th></th>\n",
       "      <th></th>\n",
       "      <th></th>\n",
       "      <th></th>\n",
       "    </tr>\n",
       "  </thead>\n",
       "  <tbody>\n",
       "    <tr>\n",
       "      <th>1.0</th>\n",
       "      <td>2</td>\n",
       "      <td>25</td>\n",
       "      <td>37</td>\n",
       "      <td>26</td>\n",
       "    </tr>\n",
       "    <tr>\n",
       "      <th>2.0</th>\n",
       "      <td>13</td>\n",
       "      <td>10</td>\n",
       "      <td>16</td>\n",
       "      <td>9</td>\n",
       "    </tr>\n",
       "    <tr>\n",
       "      <th>2.5</th>\n",
       "      <td>3</td>\n",
       "      <td></td>\n",
       "      <td></td>\n",
       "      <td></td>\n",
       "    </tr>\n",
       "    <tr>\n",
       "      <th>3.0</th>\n",
       "      <td>28</td>\n",
       "      <td>22</td>\n",
       "      <td>7</td>\n",
       "      <td>7</td>\n",
       "    </tr>\n",
       "    <tr>\n",
       "      <th>3.5</th>\n",
       "      <td>15</td>\n",
       "      <td></td>\n",
       "      <td></td>\n",
       "      <td></td>\n",
       "    </tr>\n",
       "    <tr>\n",
       "      <th>4.0</th>\n",
       "      <td>20</td>\n",
       "      <td>24</td>\n",
       "      <td>21</td>\n",
       "      <td>39</td>\n",
       "    </tr>\n",
       "  </tbody>\n",
       "</table>\n",
       "</div>"
      ],
      "text/plain": [
       "       Sequences Algebra Linear word problem Exponents\n",
       "Score                                                 \n",
       "1.0            2      25                  37        26\n",
       "2.0           13      10                  16         9\n",
       "2.5            3                                      \n",
       "3.0           28      22                   7         7\n",
       "3.5           15                                      \n",
       "4.0           20      24                  21        39"
      ]
     },
     "execution_count": 12,
     "metadata": {},
     "output_type": "execute_result"
    }
   ],
   "source": [
    "df.set_index('Score').fillna('').applymap(lambda x: int(x) if not isinstance(x, str) else x)"
   ]
  },
  {
   "cell_type": "code",
   "execution_count": null,
   "metadata": {},
   "outputs": [],
   "source": [
    "# Create stacked bar chart\n",
    "colors = ['#ADD8E6', '#7FFFD4', '#c7fdb5', '#FFFF00', '#e2ca76', '#ffa756']\n",
    "ax = df.plot(kind='bar', stacked=True, color=colors)\n",
    "\n",
    "# Add labels and title\n",
    "ax.set_xlabel('Mastery Score')\n",
    "ax.set_ylabel('Number of students (n=78)')\n",
    "ax.set_title('Sequences Quiz (plus prior learning scores)')\n",
    "\n",
    "# Add legend\n",
    "score = [1, 2, 2.5, 3, 3.5, 4]\n",
    "ax.legend(score[::-1], loc='upper right')\n",
    "\n",
    "# Rotate x-axis labels\n",
    "ax.set_xticklabels(ax.get_xticklabels(), rotation=0)\n",
    "\n",
    "# Show chart\n",
    "plt.show()\n"
   ]
  },
  {
   "cell_type": "code",
   "execution_count": 24,
   "metadata": {},
   "outputs": [
    {
     "data": {
      "image/png": "[encoded data removed]",
      "text/plain": [
       "<Figure size 432x288 with 1 Axes>"
      ]
     },
     "metadata": {
      "needs_background": "light"
     },
     "output_type": "display_data"
    }
   ],
   "source": [
    "# Import libraries\n",
    "import pandas as pd\n",
    "import matplotlib.pyplot as plt\n",
    "\n",
    "# Create DataFrame from data\n",
    "data = {'Sequences': [2, 13, 3, 28, 15, 20],\n",
    "        'Algebra': [25, 10, None, 22, None, 24],\n",
    "        'Linear word problem': [37, 16, None, 7, None, 21],\n",
    "        'Exponents': [26, 9, None, 7, None, 39]}\n",
    "df = pd.DataFrame(data)\n",
    "\n",
    "# Reverse order of rows in DataFrame\n",
    "df = df.iloc[::-1]\n",
    "\n",
    "# Transpose DataFrame to swap rows and columns\n",
    "df = df.transpose()\n",
    "\n",
    "# Create stacked bar chart\n",
    "df.plot(kind='bar', stacked=True, color=['#ADD8E6', '#7FFFD4', '#c7fdb5', '#FFFF00', '#e2ca76', '#ffa756'])\n",
    "\n",
    "# Add labels and title\n",
    "plt.xlabel('Mastery Score')\n",
    "plt.ylabel('Number of students (n=78)')\n",
    "plt.title('Sequences Quiz (plus prior learning scores)')\n",
    "\n",
    "\n",
    "# Add legend\n",
    "score = [1, 2, 2.5, 3, 3.5, 4]\n",
    "plt.legend(score[::-1], loc='upper right')\n",
    "\n",
    "plt.xticks(rotation=0)\n",
    "\n",
    "# Show chart\n",
    "plt.show()\n"
   ]
  },
  {
   "cell_type": "code",
   "execution_count": null,
   "metadata": {},
   "outputs": [],
   "source": [
    "\n",
    "# Create DataFrame from data\n",
    "data2 = {'Score': [1, 2, 2.5, 3, 3.5, 4],\n",
    "        'Sequences': [2, 13, 3, 28, 12, 20],\n",
    "        'Algebra': [25, 10, None, 19, None, 23],\n",
    "        'Linear word problem': [36, 16, None, 6, None, 19],\n",
    "        'Exponents': [25, 8, None, 5, None, 39]}\n",
    "df2 = pd.DataFrame(data2)\n",
    "\n",
    "# Make 'Score' column the row labels (the index)\n",
    "df2 = df2.set_index('Score')\n",
    "\n",
    "# Replace NaNs with blanks\n",
    "df2 = df2.fillna('')\n",
    "\n",
    "# Remove zeros in the tenths place\n",
    "df2 = df2.applymap(lambda x: int(x) if not isinstance(x, str) else x)\n",
    "\n",
    "# Print DataFrame\n",
    "# print(df2)\n"
   ]
  },
  {
   "cell_type": "code",
   "execution_count": 19,
   "metadata": {},
   "outputs": [
    {
     "data": {
      "text/html": [
       "<div>\n",
       "<style scoped>\n",
       "    .dataframe tbody tr th:only-of-type {\n",
       "        vertical-align: middle;\n",
       "    }\n",
       "\n",
       "    .dataframe tbody tr th {\n",
       "        vertical-align: top;\n",
       "    }\n",
       "\n",
       "    .dataframe thead th {\n",
       "        text-align: right;\n",
       "    }\n",
       "</style>\n",
       "<table border=\"1\" class=\"dataframe\">\n",
       "  <thead>\n",
       "    <tr style=\"text-align: right;\">\n",
       "      <th></th>\n",
       "      <th>Sequences</th>\n",
       "      <th>Algebra</th>\n",
       "      <th>Linear word problem</th>\n",
       "      <th>Exponents</th>\n",
       "    </tr>\n",
       "    <tr>\n",
       "      <th>Score</th>\n",
       "      <th></th>\n",
       "      <th></th>\n",
       "      <th></th>\n",
       "      <th></th>\n",
       "    </tr>\n",
       "  </thead>\n",
       "  <tbody>\n",
       "    <tr>\n",
       "      <th>1.0</th>\n",
       "      <td>2</td>\n",
       "      <td>25</td>\n",
       "      <td>36</td>\n",
       "      <td>25</td>\n",
       "    </tr>\n",
       "    <tr>\n",
       "      <th>2.0</th>\n",
       "      <td>13</td>\n",
       "      <td>10</td>\n",
       "      <td>16</td>\n",
       "      <td>8</td>\n",
       "    </tr>\n",
       "    <tr>\n",
       "      <th>2.5</th>\n",
       "      <td>3</td>\n",
       "      <td></td>\n",
       "      <td></td>\n",
       "      <td></td>\n",
       "    </tr>\n",
       "    <tr>\n",
       "      <th>3.0</th>\n",
       "      <td>28</td>\n",
       "      <td>19</td>\n",
       "      <td>6</td>\n",
       "      <td>5</td>\n",
       "    </tr>\n",
       "    <tr>\n",
       "      <th>3.5</th>\n",
       "      <td>12</td>\n",
       "      <td></td>\n",
       "      <td></td>\n",
       "      <td></td>\n",
       "    </tr>\n",
       "    <tr>\n",
       "      <th>4.0</th>\n",
       "      <td>20</td>\n",
       "      <td>23</td>\n",
       "      <td>19</td>\n",
       "      <td>39</td>\n",
       "    </tr>\n",
       "  </tbody>\n",
       "</table>\n",
       "</div>"
      ],
      "text/plain": [
       "       Sequences Algebra Linear word problem Exponents\n",
       "Score                                                 \n",
       "1.0            2      25                  36        25\n",
       "2.0           13      10                  16         8\n",
       "2.5            3                                      \n",
       "3.0           28      19                   6         5\n",
       "3.5           12                                      \n",
       "4.0           20      23                  19        39"
      ]
     },
     "execution_count": 19,
     "metadata": {},
     "output_type": "execute_result"
    }
   ],
   "source": [
    "df2"
   ]
  }
 ],
 "metadata": {
  "kernelspec": {
   "display_name": "base",
   "language": "python",
   "name": "python3"
  },
  "language_info": {
   "codemirror_mode": {
    "name": "ipython",
    "version": 3
   },
   "file_extension": ".py",
   "mimetype": "text/x-python",
   "name": "python",
   "nbconvert_exporter": "python",
   "pygments_lexer": "ipython3",
   "version": "3.9.12"
  },
  "orig_nbformat": 4
 },
 "nbformat": 4,
 "nbformat_minor": 2
}
