{
  "cells": [
    {
      "cell_type": "code",
      "execution_count": 1,
      "metadata": {
        "colab": {
          "base_uri": "https://localhost:8080/",
          "height": 36
        },
        "id": "xnVBWsprBv4y",
        "outputId": "5518d9a6-7e35-483a-a09d-ccca7b00b2c2"
      },
      "outputs": [
        {
          "data": {
            "text/plain": [
              "'/Users/chris/GitHub/course-files/IB2023'"
            ]
          },
          "execution_count": 1,
          "metadata": {},
          "output_type": "execute_result"
        }
      ],
      "source": [
        "import os\n",
        "import sys\n",
        "\n",
        "import pandas as pd\n",
        "#pd.set_option('display.max_colwidth', None) # Wrap text in cells to show all of large fields\n",
        "#pd.options.display.float_format = '{:.3f}'.format # 3 decimal places\n",
        "import numpy as np\n",
        "#import plotly_express as px\n",
        "#import seaborn as sns\n",
        "import matplotlib.pyplot as plt\n",
        "%matplotlib inline\n",
        "\n",
        "os.getcwd() #listdir(), mkdir(), chdir()"
      ]
    },
    {
      "cell_type": "code",
      "execution_count": null,
      "metadata": {
        "collapsed": true,
        "id": "hrSHi0CwBnPC",
        "outputId": "0ec3e8a2-0604-432e-be08-0c0d74b5a85b"
      },
      "outputs": [],
      "source": [
        "pd.show_versions(as_json=False)"
      ]
    },
    {
      "cell_type": "code",
      "execution_count": 3,
      "metadata": {
        "collapsed": true,
        "id": "AI0y8UzkBnPO"
      },
      "outputs": [
        {
          "data": {
            "text/html": [
              "<div>\n",
              "<style scoped>\n",
              "    .dataframe tbody tr th:only-of-type {\n",
              "        vertical-align: middle;\n",
              "    }\n",
              "\n",
              "    .dataframe tbody tr th {\n",
              "        vertical-align: top;\n",
              "    }\n",
              "\n",
              "    .dataframe thead th {\n",
              "        text-align: right;\n",
              "    }\n",
              "</style>\n",
              "<table border=\"1\" class=\"dataframe\">\n",
              "  <thead>\n",
              "    <tr style=\"text-align: right;\">\n",
              "      <th></th>\n",
              "      <th>xcol</th>\n",
              "      <th>ycol</th>\n",
              "      <th>zcol</th>\n",
              "      <th>alpha</th>\n",
              "    </tr>\n",
              "  </thead>\n",
              "  <tbody>\n",
              "    <tr>\n",
              "      <th>0</th>\n",
              "      <td>4</td>\n",
              "      <td>10.0</td>\n",
              "      <td>14.0</td>\n",
              "      <td>a</td>\n",
              "    </tr>\n",
              "    <tr>\n",
              "      <th>1</th>\n",
              "      <td>6</td>\n",
              "      <td>NaN</td>\n",
              "      <td>NaN</td>\n",
              "      <td>b</td>\n",
              "    </tr>\n",
              "    <tr>\n",
              "      <th>2</th>\n",
              "      <td>10</td>\n",
              "      <td>15.0</td>\n",
              "      <td>25.0</td>\n",
              "      <td>c</td>\n",
              "    </tr>\n",
              "    <tr>\n",
              "      <th>3</th>\n",
              "      <td>14</td>\n",
              "      <td>19.0</td>\n",
              "      <td>33.0</td>\n",
              "      <td>d</td>\n",
              "    </tr>\n",
              "    <tr>\n",
              "      <th>4</th>\n",
              "      <td>16</td>\n",
              "      <td>7.0</td>\n",
              "      <td>23.0</td>\n",
              "      <td>e</td>\n",
              "    </tr>\n",
              "    <tr>\n",
              "      <th>5</th>\n",
              "      <td>19</td>\n",
              "      <td>NaN</td>\n",
              "      <td>NaN</td>\n",
              "      <td>f</td>\n",
              "    </tr>\n",
              "  </tbody>\n",
              "</table>\n",
              "</div>"
            ],
            "text/plain": [
              "   xcol  ycol  zcol alpha\n",
              "0     4  10.0  14.0     a\n",
              "1     6   NaN   NaN     b\n",
              "2    10  15.0  25.0     c\n",
              "3    14  19.0  33.0     d\n",
              "4    16   7.0  23.0     e\n",
              "5    19   NaN   NaN     f"
            ]
          },
          "metadata": {},
          "output_type": "display_data"
        },
        {
          "data": {
            "text/html": [
              "<div>\n",
              "<style scoped>\n",
              "    .dataframe tbody tr th:only-of-type {\n",
              "        vertical-align: middle;\n",
              "    }\n",
              "\n",
              "    .dataframe tbody tr th {\n",
              "        vertical-align: top;\n",
              "    }\n",
              "\n",
              "    .dataframe thead th {\n",
              "        text-align: right;\n",
              "    }\n",
              "</style>\n",
              "<table border=\"1\" class=\"dataframe\">\n",
              "  <thead>\n",
              "    <tr style=\"text-align: right;\">\n",
              "      <th></th>\n",
              "      <th>xcol</th>\n",
              "      <th>ycol</th>\n",
              "      <th>zcol</th>\n",
              "      <th>alpha</th>\n",
              "    </tr>\n",
              "  </thead>\n",
              "  <tbody>\n",
              "    <tr>\n",
              "      <th>2</th>\n",
              "      <td>10</td>\n",
              "      <td>15.0</td>\n",
              "      <td>25.0</td>\n",
              "      <td>c</td>\n",
              "    </tr>\n",
              "  </tbody>\n",
              "</table>\n",
              "</div>"
            ],
            "text/plain": [
              "   xcol  ycol  zcol alpha\n",
              "2    10  15.0  25.0     c"
            ]
          },
          "metadata": {},
          "output_type": "display_data"
        },
        {
          "data": {
            "text/html": [
              "<div>\n",
              "<style scoped>\n",
              "    .dataframe tbody tr th:only-of-type {\n",
              "        vertical-align: middle;\n",
              "    }\n",
              "\n",
              "    .dataframe tbody tr th {\n",
              "        vertical-align: top;\n",
              "    }\n",
              "\n",
              "    .dataframe thead th {\n",
              "        text-align: right;\n",
              "    }\n",
              "</style>\n",
              "<table border=\"1\" class=\"dataframe\">\n",
              "  <thead>\n",
              "    <tr style=\"text-align: right;\">\n",
              "      <th></th>\n",
              "      <th>xcol</th>\n",
              "    </tr>\n",
              "  </thead>\n",
              "  <tbody>\n",
              "    <tr>\n",
              "      <th>0</th>\n",
              "      <td>4</td>\n",
              "    </tr>\n",
              "    <tr>\n",
              "      <th>1</th>\n",
              "      <td>6</td>\n",
              "    </tr>\n",
              "    <tr>\n",
              "      <th>2</th>\n",
              "      <td>10</td>\n",
              "    </tr>\n",
              "    <tr>\n",
              "      <th>3</th>\n",
              "      <td>14</td>\n",
              "    </tr>\n",
              "    <tr>\n",
              "      <th>4</th>\n",
              "      <td>16</td>\n",
              "    </tr>\n",
              "    <tr>\n",
              "      <th>5</th>\n",
              "      <td>19</td>\n",
              "    </tr>\n",
              "  </tbody>\n",
              "</table>\n",
              "</div>"
            ],
            "text/plain": [
              "   xcol\n",
              "0     4\n",
              "1     6\n",
              "2    10\n",
              "3    14\n",
              "4    16\n",
              "5    19"
            ]
          },
          "metadata": {},
          "output_type": "display_data"
        },
        {
          "data": {
            "text/plain": [
              "'count the number of NaNs: '"
            ]
          },
          "metadata": {},
          "output_type": "display_data"
        },
        {
          "data": {
            "text/plain": [
              "xcol    0\n",
              "ycol    2\n",
              "zcol    2\n",
              "dtype: int64"
            ]
          },
          "metadata": {},
          "output_type": "display_data"
        },
        {
          "data": {
            "text/html": [
              "<div>\n",
              "<style scoped>\n",
              "    .dataframe tbody tr th:only-of-type {\n",
              "        vertical-align: middle;\n",
              "    }\n",
              "\n",
              "    .dataframe tbody tr th {\n",
              "        vertical-align: top;\n",
              "    }\n",
              "\n",
              "    .dataframe thead th {\n",
              "        text-align: right;\n",
              "    }\n",
              "</style>\n",
              "<table border=\"1\" class=\"dataframe\">\n",
              "  <thead>\n",
              "    <tr style=\"text-align: right;\">\n",
              "      <th></th>\n",
              "      <th>ycol</th>\n",
              "      <th>zcol</th>\n",
              "    </tr>\n",
              "    <tr>\n",
              "      <th>alpha</th>\n",
              "      <th></th>\n",
              "      <th></th>\n",
              "    </tr>\n",
              "  </thead>\n",
              "  <tbody>\n",
              "    <tr>\n",
              "      <th>a</th>\n",
              "      <td>10.0</td>\n",
              "      <td>14.0</td>\n",
              "    </tr>\n",
              "    <tr>\n",
              "      <th>d</th>\n",
              "      <td>19.0</td>\n",
              "      <td>33.0</td>\n",
              "    </tr>\n",
              "  </tbody>\n",
              "</table>\n",
              "</div>"
            ],
            "text/plain": [
              "       ycol  zcol\n",
              "alpha            \n",
              "a      10.0  14.0\n",
              "d      19.0  33.0"
            ]
          },
          "metadata": {},
          "output_type": "display_data"
        },
        {
          "data": {
            "text/html": [
              "<div>\n",
              "<style scoped>\n",
              "    .dataframe tbody tr th:only-of-type {\n",
              "        vertical-align: middle;\n",
              "    }\n",
              "\n",
              "    .dataframe tbody tr th {\n",
              "        vertical-align: top;\n",
              "    }\n",
              "\n",
              "    .dataframe thead th {\n",
              "        text-align: right;\n",
              "    }\n",
              "</style>\n",
              "<table border=\"1\" class=\"dataframe\">\n",
              "  <thead>\n",
              "    <tr style=\"text-align: right;\">\n",
              "      <th></th>\n",
              "      <th>xcol</th>\n",
              "      <th>ycol</th>\n",
              "      <th>zcol</th>\n",
              "    </tr>\n",
              "    <tr>\n",
              "      <th>alpha</th>\n",
              "      <th></th>\n",
              "      <th></th>\n",
              "      <th></th>\n",
              "    </tr>\n",
              "  </thead>\n",
              "  <tbody>\n",
              "    <tr>\n",
              "      <th>c</th>\n",
              "      <td>10</td>\n",
              "      <td>15.0</td>\n",
              "      <td>25.0</td>\n",
              "    </tr>\n",
              "    <tr>\n",
              "      <th>d</th>\n",
              "      <td>14</td>\n",
              "      <td>19.0</td>\n",
              "      <td>33.0</td>\n",
              "    </tr>\n",
              "  </tbody>\n",
              "</table>\n",
              "</div>"
            ],
            "text/plain": [
              "       xcol  ycol  zcol\n",
              "alpha                  \n",
              "c        10  15.0  25.0\n",
              "d        14  19.0  33.0"
            ]
          },
          "metadata": {},
          "output_type": "display_data"
        },
        {
          "data": {
            "text/html": [
              "<div>\n",
              "<style scoped>\n",
              "    .dataframe tbody tr th:only-of-type {\n",
              "        vertical-align: middle;\n",
              "    }\n",
              "\n",
              "    .dataframe tbody tr th {\n",
              "        vertical-align: top;\n",
              "    }\n",
              "\n",
              "    .dataframe thead th {\n",
              "        text-align: right;\n",
              "    }\n",
              "</style>\n",
              "<table border=\"1\" class=\"dataframe\">\n",
              "  <thead>\n",
              "    <tr style=\"text-align: right;\">\n",
              "      <th></th>\n",
              "      <th>xcol</th>\n",
              "      <th>ycol</th>\n",
              "    </tr>\n",
              "    <tr>\n",
              "      <th>alpha</th>\n",
              "      <th></th>\n",
              "      <th></th>\n",
              "    </tr>\n",
              "  </thead>\n",
              "  <tbody>\n",
              "    <tr>\n",
              "      <th>d</th>\n",
              "      <td>14</td>\n",
              "      <td>19.0</td>\n",
              "    </tr>\n",
              "  </tbody>\n",
              "</table>\n",
              "</div>"
            ],
            "text/plain": [
              "       xcol  ycol\n",
              "alpha            \n",
              "d        14  19.0"
            ]
          },
          "execution_count": 3,
          "metadata": {},
          "output_type": "execute_result"
        }
      ],
      "source": [
        "df = pd.DataFrame([(4,10), (6, np.nan), (10,15), (14,19), (16, 7), (19, None)], columns=['xcol', 'ycol'])\n",
        "df['alpha'] = list('abcdef')\n",
        "df.insert(2, 'zcol', df.xcol + df.ycol)\n",
        "display(df)\n",
        "display(df.loc[2:2]) # df.loc[2:2] and .loc[[2]] return dataframe, df.loc[2] returns series\n",
        "display(df[['xcol']]) # df.xcol and df['xcol'] return pd.Series instead of DataFrame\n",
        "df.set_index('alpha', inplace=True)\n",
        "display('count the number of NaNs: ', df.isnull().sum())\n",
        "df.dropna(inplace=True)\n",
        "df.drop(df.index[df.xcol>12])\n",
        "\n",
        "display(df.loc[['a', 'd'], 'ycol':'zcol'])  # select on single value, list, slice (including ':')\n",
        "display(df.query('xcol<16 & zcol>15')) # pd: &, |, ~ versus python: and, or, not\n",
        "df[df.zcol.isin([10, 33])][['xcol', 'ycol']] # .between(10, 33, inclusive=False)]"
      ]
    },
    {
      "cell_type": "code",
      "execution_count": 4,
      "metadata": {
        "id": "0j40bPEiBnPU"
      },
      "outputs": [
        {
          "data": {
            "text/html": [
              "<div>\n",
              "<style scoped>\n",
              "    .dataframe tbody tr th:only-of-type {\n",
              "        vertical-align: middle;\n",
              "    }\n",
              "\n",
              "    .dataframe tbody tr th {\n",
              "        vertical-align: top;\n",
              "    }\n",
              "\n",
              "    .dataframe thead th {\n",
              "        text-align: right;\n",
              "    }\n",
              "</style>\n",
              "<table border=\"1\" class=\"dataframe\">\n",
              "  <thead>\n",
              "    <tr style=\"text-align: right;\">\n",
              "      <th></th>\n",
              "      <th>xcol</th>\n",
              "      <th>ycol</th>\n",
              "      <th>alpha</th>\n",
              "    </tr>\n",
              "  </thead>\n",
              "  <tbody>\n",
              "    <tr>\n",
              "      <th>0</th>\n",
              "      <td>4</td>\n",
              "      <td>10</td>\n",
              "      <td>a</td>\n",
              "    </tr>\n",
              "    <tr>\n",
              "      <th>1</th>\n",
              "      <td>10</td>\n",
              "      <td>15</td>\n",
              "      <td>b</td>\n",
              "    </tr>\n",
              "    <tr>\n",
              "      <th>2</th>\n",
              "      <td>14</td>\n",
              "      <td>19</td>\n",
              "      <td>c</td>\n",
              "    </tr>\n",
              "  </tbody>\n",
              "</table>\n",
              "</div>"
            ],
            "text/plain": [
              "   xcol  ycol alpha\n",
              "0     4    10     a\n",
              "1    10    15     b\n",
              "2    14    19     c"
            ]
          },
          "metadata": {},
          "output_type": "display_data"
        },
        {
          "name": "stdout",
          "output_type": "stream",
          "text": [
            "0 (4, 10)\n",
            "0 a\n",
            "1 (10, 15)\n",
            "1 b\n",
            "2 (14, 19)\n",
            "2 c\n"
          ]
        }
      ],
      "source": [
        "# loop rows with itertuples()\n",
        "df = pd.DataFrame([(4,10, 'a'), (10,15, 'b'), (14,19, 'c')], columns=['xcol', 'ycol', 'alpha'])\n",
        "display(df)\n",
        "for row_tuple in df.itertuples():  # also iteritems() works over columns\n",
        "    print(row_tuple[0], row_tuple[1:-1])\n",
        "    print(row_tuple.Index, row_tuple.alpha)\n"
      ]
    },
    {
      "cell_type": "code",
      "execution_count": 5,
      "metadata": {
        "id": "rHOA1JCTBnPb",
        "scrolled": true
      },
      "outputs": [
        {
          "name": "stdout",
          "output_type": "stream",
          "text": [
            "$100      2\n",
            "$2,000    1\n",
            "None      1\n",
            "Name: B, dtype: int64\n"
          ]
        },
        {
          "data": {
            "text/html": [
              "<div>\n",
              "<style scoped>\n",
              "    .dataframe tbody tr th:only-of-type {\n",
              "        vertical-align: middle;\n",
              "    }\n",
              "\n",
              "    .dataframe tbody tr th {\n",
              "        vertical-align: top;\n",
              "    }\n",
              "\n",
              "    .dataframe thead th {\n",
              "        text-align: right;\n",
              "    }\n",
              "</style>\n",
              "<table border=\"1\" class=\"dataframe\">\n",
              "  <thead>\n",
              "    <tr style=\"text-align: right;\">\n",
              "      <th></th>\n",
              "      <th>Name</th>\n",
              "      <th>A</th>\n",
              "      <th>B</th>\n",
              "    </tr>\n",
              "  </thead>\n",
              "  <tbody>\n",
              "    <tr>\n",
              "      <th>count</th>\n",
              "      <td>4</td>\n",
              "      <td>3</td>\n",
              "      <td>4</td>\n",
              "    </tr>\n",
              "    <tr>\n",
              "      <th>unique</th>\n",
              "      <td>4</td>\n",
              "      <td>3</td>\n",
              "      <td>3</td>\n",
              "    </tr>\n",
              "    <tr>\n",
              "      <th>top</th>\n",
              "      <td>Cat</td>\n",
              "      <td>$400</td>\n",
              "      <td>$100</td>\n",
              "    </tr>\n",
              "    <tr>\n",
              "      <th>freq</th>\n",
              "      <td>1</td>\n",
              "      <td>1</td>\n",
              "      <td>2</td>\n",
              "    </tr>\n",
              "  </tbody>\n",
              "</table>\n",
              "</div>"
            ],
            "text/plain": [
              "       Name     A     B\n",
              "count     4     3     4\n",
              "unique    4     3     3\n",
              "top     Cat  $400  $100\n",
              "freq      1     1     2"
            ]
          },
          "execution_count": 5,
          "metadata": {},
          "output_type": "execute_result"
        }
      ],
      "source": [
        "# Summary of dataframe\n",
        "df = pd.DataFrame({'Name':['Cat', 'Dog', 'Fish', 'Cow'],'A':['$400', '$100', '$2,000', np.nan], 'B':['$100', '$2,000', 'None', '$100']})\n",
        "print(df.B.value_counts()) #.head(), .info(), .describe(), .columns, .dtypes df.col_name.value_counts()\n",
        "df.describe()"
      ]
    },
    {
      "cell_type": "code",
      "execution_count": 6,
      "metadata": {
        "id": "eDAoS3HWBnPg"
      },
      "outputs": [
        {
          "data": {
            "text/html": [
              "<div>\n",
              "<style scoped>\n",
              "    .dataframe tbody tr th:only-of-type {\n",
              "        vertical-align: middle;\n",
              "    }\n",
              "\n",
              "    .dataframe tbody tr th {\n",
              "        vertical-align: top;\n",
              "    }\n",
              "\n",
              "    .dataframe thead th {\n",
              "        text-align: right;\n",
              "    }\n",
              "</style>\n",
              "<table border=\"1\" class=\"dataframe\">\n",
              "  <thead>\n",
              "    <tr style=\"text-align: right;\">\n",
              "      <th></th>\n",
              "      <th>Name</th>\n",
              "      <th>A</th>\n",
              "      <th>B</th>\n",
              "    </tr>\n",
              "  </thead>\n",
              "  <tbody>\n",
              "    <tr>\n",
              "      <th>0</th>\n",
              "      <td>Cat</td>\n",
              "      <td>$400</td>\n",
              "      <td>$100</td>\n",
              "    </tr>\n",
              "    <tr>\n",
              "      <th>1</th>\n",
              "      <td>Dog</td>\n",
              "      <td>$100</td>\n",
              "      <td>$2,000</td>\n",
              "    </tr>\n",
              "    <tr>\n",
              "      <th>2</th>\n",
              "      <td>Fish</td>\n",
              "      <td>$2,000</td>\n",
              "      <td>None</td>\n",
              "    </tr>\n",
              "    <tr>\n",
              "      <th>3</th>\n",
              "      <td>Cow</td>\n",
              "      <td>NaN</td>\n",
              "      <td>$100</td>\n",
              "    </tr>\n",
              "  </tbody>\n",
              "</table>\n",
              "</div>"
            ],
            "text/plain": [
              "   Name       A       B\n",
              "0   Cat    $400    $100\n",
              "1   Dog    $100  $2,000\n",
              "2  Fish  $2,000    None\n",
              "3   Cow     NaN    $100"
            ]
          },
          "metadata": {},
          "output_type": "display_data"
        },
        {
          "data": {
            "text/html": [
              "<div>\n",
              "<style scoped>\n",
              "    .dataframe tbody tr th:only-of-type {\n",
              "        vertical-align: middle;\n",
              "    }\n",
              "\n",
              "    .dataframe tbody tr th {\n",
              "        vertical-align: top;\n",
              "    }\n",
              "\n",
              "    .dataframe thead th {\n",
              "        text-align: right;\n",
              "    }\n",
              "</style>\n",
              "<table border=\"1\" class=\"dataframe\">\n",
              "  <thead>\n",
              "    <tr style=\"text-align: right;\">\n",
              "      <th></th>\n",
              "      <th>Name</th>\n",
              "      <th>A</th>\n",
              "      <th>B</th>\n",
              "      <th>flag</th>\n",
              "      <th>is_cow</th>\n",
              "    </tr>\n",
              "  </thead>\n",
              "  <tbody>\n",
              "    <tr>\n",
              "      <th>0</th>\n",
              "      <td>Cat</td>\n",
              "      <td>many</td>\n",
              "      <td>$100</td>\n",
              "      <td>NaN</td>\n",
              "      <td>NaN</td>\n",
              "    </tr>\n",
              "    <tr>\n",
              "      <th>1</th>\n",
              "      <td>Dog</td>\n",
              "      <td>hundred</td>\n",
              "      <td>$2,000</td>\n",
              "      <td>11.0</td>\n",
              "      <td>NaN</td>\n",
              "    </tr>\n",
              "    <tr>\n",
              "      <th>2</th>\n",
              "      <td>Fish</td>\n",
              "      <td>$2,000</td>\n",
              "      <td>None</td>\n",
              "      <td>NaN</td>\n",
              "      <td>NaN</td>\n",
              "    </tr>\n",
              "    <tr>\n",
              "      <th>3</th>\n",
              "      <td>Cow</td>\n",
              "      <td>missing</td>\n",
              "      <td>$880</td>\n",
              "      <td>NaN</td>\n",
              "      <td>77.0</td>\n",
              "    </tr>\n",
              "  </tbody>\n",
              "</table>\n",
              "</div>"
            ],
            "text/plain": [
              "   Name        A       B  flag  is_cow\n",
              "0   Cat     many    $100   NaN     NaN\n",
              "1   Dog  hundred  $2,000  11.0     NaN\n",
              "2  Fish   $2,000    None   NaN     NaN\n",
              "3   Cow  missing    $880   NaN    77.0"
            ]
          },
          "execution_count": 6,
          "metadata": {},
          "output_type": "execute_result"
        }
      ],
      "source": [
        "# change values\n",
        "display(df)\n",
        "#df.A = df.A.apply(lambda x: x if x == 'None' else float(x.replace('$', '').replace(',','')))\n",
        "df.loc[df.Name == 'Dog', 'flag'] = 11\n",
        "df.loc[df.A.isna(), 'B'] = '$880'\n",
        "\n",
        "key_val = {'$100':'hundred','$400':'many', None:'missing'}\n",
        "df['A'].replace(key_val, inplace=True)\n",
        "\n",
        "df['is_cow'] = df.Name.apply(lambda x: 77 if 'Cow' == x else None)\n",
        "\n",
        "df"
      ]
    },
    {
      "cell_type": "code",
      "execution_count": 7,
      "metadata": {
        "collapsed": true,
        "id": "32LyTYKfBnPl",
        "outputId": "3c20077e-c889-416c-dbb2-1c288a4a4c0e"
      },
      "outputs": [
        {
          "data": {
            "text/html": [
              "<div>\n",
              "<style scoped>\n",
              "    .dataframe tbody tr th:only-of-type {\n",
              "        vertical-align: middle;\n",
              "    }\n",
              "\n",
              "    .dataframe tbody tr th {\n",
              "        vertical-align: top;\n",
              "    }\n",
              "\n",
              "    .dataframe thead th {\n",
              "        text-align: right;\n",
              "    }\n",
              "</style>\n",
              "<table border=\"1\" class=\"dataframe\">\n",
              "  <thead>\n",
              "    <tr style=\"text-align: right;\">\n",
              "      <th></th>\n",
              "      <th>a</th>\n",
              "      <th>b</th>\n",
              "    </tr>\n",
              "  </thead>\n",
              "  <tbody>\n",
              "    <tr>\n",
              "      <th>0</th>\n",
              "      <td>1</td>\n",
              "      <td>4</td>\n",
              "    </tr>\n",
              "    <tr>\n",
              "      <th>1</th>\n",
              "      <td>2</td>\n",
              "      <td>5</td>\n",
              "    </tr>\n",
              "    <tr>\n",
              "      <th>2</th>\n",
              "      <td>3</td>\n",
              "      <td>6</td>\n",
              "    </tr>\n",
              "  </tbody>\n",
              "</table>\n",
              "</div>"
            ],
            "text/plain": [
              "   a  b\n",
              "0  1  4\n",
              "1  2  5\n",
              "2  3  6"
            ]
          },
          "execution_count": 7,
          "metadata": {},
          "output_type": "execute_result"
        }
      ],
      "source": [
        "# Rename table labels columns or indexes\n",
        "df = pd.DataFrame({\"A\": [1, 2, 3], \"B\": [4, 5, 6]})\n",
        "df.rename(columns={\"A\": \"a\", \"B\": \"c\"}) #inplace=False is default\n",
        "df.rename(index={0: \"x\", 1: \"y\", 2: \"z\"})\n",
        "df.rename(str.lower, axis='columns') #apply function to column or index values; str.strip to remove whitespace\n",
        "#https://pandas.pydata.org/pandas-docs/stable/reference/api/pandas.DataFrame.rename.html?highlight=rename%20column\n",
        "df.columns = df.columns.str.strip().str.lower().str.replace(' ', '_') # cleans column names\n",
        "df"
      ]
    },
    {
      "cell_type": "code",
      "execution_count": 8,
      "metadata": {
        "id": "9m3fvTmyBnPr",
        "outputId": "a9417a15-07d9-4b67-ed09-c56db135b41a"
      },
      "outputs": [
        {
          "name": "stdout",
          "output_type": "stream",
          "text": [
            "Slice\n",
            "          evens animals  normal\n",
            "letters                       \n",
            "a          2.0     dog   -2.51\n",
            "b          4.0     cat   -0.83\n",
            "c          6.0     cow   -0.73 \n",
            "\n",
            "\n",
            "Select by list of Index & column values\n",
            "         animals  normal\n",
            "letters                \n",
            "a           dog   -2.51\n",
            "c           cow   -0.73\n",
            "d           rat   -0.77 \n",
            "\n",
            "         desc  evens animals  normal\n",
            "letters                             \n",
            "c          96    6.0     cow   -0.73\n",
            "b          98    4.0     cat   -0.83\n",
            "a         100    2.0     dog   -2.51\n",
            "\n",
            "Search column text\n",
            "         animals  evens  normal\n",
            "letters                       \n",
            "a           dog    2.0   -2.51\n",
            "e           dog   10.0    0.11\n",
            "h          bird   16.0   -1.86\n",
            "i           dog   18.0    0.54\n",
            "\n",
            "Select by column isin list\n",
            "          desc  evens animals  normal\n",
            "letters                             \n",
            "c          96    6.0     cow   -0.73\n",
            "d          94    8.0     rat   -0.77\n",
            "j          82   20.0     cow   -1.11\n",
            "\n",
            "Select by query\n",
            "          desc  evens animals  normal\n",
            "letters                             \n",
            "e          92   10.0     dog    0.11\n",
            "\n",
            "Assign using a mask\n",
            "          desc  evens animals  normal\n",
            "letters                             \n",
            "a         100    2.0     dog   -2.51\n",
            "b          98    4.0     cat  999.00\n",
            "c          96    6.0     cow  999.00\n",
            "d          94    8.0     rat   -0.77\n",
            "e          92   10.0     dog    0.11\n",
            "f          90   12.0    fish   -1.37\n",
            "g          88   14.0     cat  999.00\n",
            "h          86   16.0    bird   -1.86\n",
            "i          84   18.0     dog    0.54\n",
            "j          82   20.0     cow  999.00\n"
          ]
        }
      ],
      "source": [
        "import string\n",
        "letters = [s for s in string.ascii_letters[0:10]] # also ascii_lowercase, ascii_uppercase\n",
        "w = [x for x in range(100, 80, -2)]\n",
        "evens = np.linspace(2,20,10)\n",
        "y = ['dog', 'cat', 'cow', 'rat', 'dog', 'fish', 'cat', 'bird', 'dog', 'cow']\n",
        "rand = np.random.normal(0, 1, 10).round(2)\n",
        "\n",
        "data = list(zip(w, evens, y, rand, letters))\n",
        "names = ['desc', 'evens', 'animals', 'normal', 'letters']\n",
        "df = pd.DataFrame(data, columns=names) # index=letters\n",
        "df.set_index('letters', inplace=True)\n",
        "print('Slice\\n', df.loc['a':'c', 'evens':'normal'], '\\n') # Note second end point is included\n",
        "print('\\nSelect by list of Index & column values\\n', df.loc[['a', 'c', 'd'], ['animals', 'normal']], '\\n')\n",
        "print(df[df.desc >=96].sort_values('normal', ascending=False))\n",
        "print('\\nSearch column text\\n', df[df.animals.str.contains('d')][['animals', 'evens', 'normal']])\n",
        "print('\\nSelect by column isin list\\n', df[df.animals.isin(['cow', 'rat'])]) #if error for single string, put in list\n",
        "print('\\nSelect by query\\n', df.query('normal>0 & evens<13'))\n",
        "\n",
        "mask = df['animals'].str.startswith('c') #endswith\n",
        "df.loc[mask, 'normal'] = 999\n",
        "print('\\nAssign using a mask\\n', df)"
      ]
    },
    {
      "cell_type": "code",
      "execution_count": 9,
      "metadata": {
        "collapsed": true,
        "id": "EOohV-8dBnPw",
        "outputId": "151d166f-cde8-4c08-efa9-7cd1fd4fbaa8"
      },
      "outputs": [
        {
          "data": {
            "text/html": [
              "<div>\n",
              "<style scoped>\n",
              "    .dataframe tbody tr th:only-of-type {\n",
              "        vertical-align: middle;\n",
              "    }\n",
              "\n",
              "    .dataframe tbody tr th {\n",
              "        vertical-align: top;\n",
              "    }\n",
              "\n",
              "    .dataframe thead th {\n",
              "        text-align: right;\n",
              "    }\n",
              "</style>\n",
              "<table border=\"1\" class=\"dataframe\">\n",
              "  <thead>\n",
              "    <tr style=\"text-align: right;\">\n",
              "      <th></th>\n",
              "      <th>full_name</th>\n",
              "      <th>first_name</th>\n",
              "      <th>last_name</th>\n",
              "      <th>alt_last_names</th>\n",
              "    </tr>\n",
              "  </thead>\n",
              "  <tbody>\n",
              "    <tr>\n",
              "      <th>0</th>\n",
              "      <td>Abe Lincoln</td>\n",
              "      <td>Abe</td>\n",
              "      <td>Lincoln</td>\n",
              "      <td>Lincoln</td>\n",
              "    </tr>\n",
              "    <tr>\n",
              "      <th>1</th>\n",
              "      <td>Roger Merris</td>\n",
              "      <td>Roger</td>\n",
              "      <td>Merris</td>\n",
              "      <td>Merris</td>\n",
              "    </tr>\n",
              "    <tr>\n",
              "      <th>2</th>\n",
              "      <td>Neil Armstrong</td>\n",
              "      <td>Neil</td>\n",
              "      <td>Armstrong</td>\n",
              "      <td>Armstrong</td>\n",
              "    </tr>\n",
              "    <tr>\n",
              "      <th>3</th>\n",
              "      <td>Alexandria Ocasio Cortez</td>\n",
              "      <td>Alexandria</td>\n",
              "      <td>Cortez</td>\n",
              "      <td>Ocasio Cortez</td>\n",
              "    </tr>\n",
              "  </tbody>\n",
              "</table>\n",
              "</div>"
            ],
            "text/plain": [
              "                  full_name  first_name  last_name alt_last_names\n",
              "0               Abe Lincoln         Abe    Lincoln        Lincoln\n",
              "1              Roger Merris       Roger     Merris         Merris\n",
              "2            Neil Armstrong        Neil  Armstrong      Armstrong\n",
              "3  Alexandria Ocasio Cortez  Alexandria     Cortez  Ocasio Cortez"
            ]
          },
          "metadata": {},
          "output_type": "display_data"
        },
        {
          "data": {
            "text/html": [
              "<div>\n",
              "<style scoped>\n",
              "    .dataframe tbody tr th:only-of-type {\n",
              "        vertical-align: middle;\n",
              "    }\n",
              "\n",
              "    .dataframe tbody tr th {\n",
              "        vertical-align: top;\n",
              "    }\n",
              "\n",
              "    .dataframe thead th {\n",
              "        text-align: right;\n",
              "    }\n",
              "</style>\n",
              "<table border=\"1\" class=\"dataframe\">\n",
              "  <thead>\n",
              "    <tr style=\"text-align: right;\">\n",
              "      <th></th>\n",
              "      <th>full</th>\n",
              "      <th>path</th>\n",
              "      <th>directory</th>\n",
              "      <th>file</th>\n",
              "    </tr>\n",
              "  </thead>\n",
              "  <tbody>\n",
              "    <tr>\n",
              "      <th>0</th>\n",
              "      <td>/usr/me/git/dir/file</td>\n",
              "      <td>/usr/me/git</td>\n",
              "      <td>dir</td>\n",
              "      <td>file</td>\n",
              "    </tr>\n",
              "    <tr>\n",
              "      <th>1</th>\n",
              "      <td>/usr/me/git/dir2/file2</td>\n",
              "      <td>/usr/me/git</td>\n",
              "      <td>dir2</td>\n",
              "      <td>file2</td>\n",
              "    </tr>\n",
              "    <tr>\n",
              "      <th>2</th>\n",
              "      <td>/usr/me/git/dir3/file3</td>\n",
              "      <td>/usr/me/git</td>\n",
              "      <td>dir3</td>\n",
              "      <td>file3</td>\n",
              "    </tr>\n",
              "  </tbody>\n",
              "</table>\n",
              "</div>"
            ],
            "text/plain": [
              "                     full         path directory   file\n",
              "0    /usr/me/git/dir/file  /usr/me/git       dir   file\n",
              "1  /usr/me/git/dir2/file2  /usr/me/git      dir2  file2\n",
              "2  /usr/me/git/dir3/file3  /usr/me/git      dir3  file3"
            ]
          },
          "execution_count": 9,
          "metadata": {},
          "output_type": "execute_result"
        }
      ],
      "source": [
        "# str functions\n",
        "# https://pandas.pydata.org/pandas-docs/stable/user_guide/text.html\n",
        "students = pd.DataFrame({'full_name':[\"Abe Lincoln\", \"Roger Merris\", \"Neil Armstrong\", \"Alexandria Ocasio Cortez\"]})\n",
        "name_split = students.full_name.str.split(' ') # note expand=True functionality, df.col.str.split('(\\d+)', expand=True)[1]\n",
        "students['first_name'] = name_split.str.get(0)\n",
        "students['last_name'] = name_split.str[-1] #note incorrect handling of two last names\n",
        "students['alt_last_names'] = students.full_name.str.split(' ', n=1).str.get(1) #also str.rsplit from the right\n",
        "display(students)\n",
        "\n",
        "pathnames = pd.DataFrame({'full':['/usr/me/git/dir/file', '/usr/me/git/dir2/file2', '/usr/me/git/dir3/file3']})\n",
        "pathnames[['path', 'directory', 'file']] = pathnames.full.str.rsplit('/', n=2, expand=True)\n",
        "pathnames\n"
      ]
    },
    {
      "cell_type": "code",
      "execution_count": 10,
      "metadata": {
        "collapsed": true,
        "id": "fk6BbSb0BnP0",
        "outputId": "46b8c9b5-51f6-4349-9c0e-10799acf180a"
      },
      "outputs": [
        {
          "data": {
            "text/plain": [
              "'Teo'"
            ]
          },
          "metadata": {},
          "output_type": "display_data"
        },
        {
          "data": {
            "text/plain": [
              "full_name     object\n",
              "location      object\n",
              "room_num       int64\n",
              "last_name     object\n",
              "first_name    object\n",
              "dtype: object"
            ]
          },
          "execution_count": 10,
          "metadata": {},
          "output_type": "execute_result"
        }
      ],
      "source": [
        "roster_df = pd.DataFrame({'full_name': ['Arling, Teo  ', 'Meke, Ben', 'Seetle, Steve'],\n",
        "                         'location': ['Room 301', 'Rm 123', 'Room 456']})\n",
        "roster_df['room_num'] = roster_df.location.str.split(' ').str[1].astype('int')\n",
        "roster_df[['last_name', 'first_name']] = roster_df['full_name'].str.split(',', expand=True)\n",
        "roster_df['first_name'] = roster_df['first_name'].str.strip()\n",
        "display(roster_df.loc[0,'first_name'])\n",
        "roster_df.dtypes"
      ]
    },
    {
      "cell_type": "code",
      "execution_count": 11,
      "metadata": {
        "collapsed": true,
        "id": "nUdxa6VxBnP4",
        "outputId": "7982b59f-89d3-4af9-e8e5-4100ca9f78a2"
      },
      "outputs": [
        {
          "name": "stdout",
          "output_type": "stream",
          "text": [
            "start \n",
            " \\n\n"
          ]
        },
        {
          "data": {
            "text/plain": [
              "0    False\n",
              "1     True\n",
              "2    False\n",
              "Name: A, dtype: bool"
            ]
          },
          "execution_count": 11,
          "metadata": {},
          "output_type": "execute_result"
        }
      ],
      "source": [
        "print('start', '\\n', r'\\n')\n",
        "df = pd.DataFrame({'A':['start', '\\n  \\t \\n', r'\\n']})\n",
        "\n",
        "df.A.str.match('\\\\n\\s*\\\\n')"
      ]
    },
    {
      "cell_type": "markdown",
      "metadata": {
        "id": "dU6eVP7-BnP-"
      },
      "source": [
        "## regex\n",
        "pipe to match alternative strings, e.g. 'abc|xyz' \\\n",
        "brackets to match a single character from a list, e.g. '[abc]' \\\n",
        "a range of characters is indicated with a dash ('-'), multiples allowed, e.g. '[a-zA-Z]' \\\n",
        "carat (negation) to match any but a list of characters, e.g. '[^pqr]' \\\n",
        "period as wild card character, e.g. 'p.t' matches pit, pat, pot, pet, etc. \\\n",
        "escape character is back slash ('\\\\'). e.g. '\\\\.' matches period \\\n",
        "shortcuts for characters, digits, or spaces/tabs/returns. (CAP is negation), e.g. '\\w' = [A-Za-z0-9_], '\\d', '\\s', '\\W'... \\\n",
        "parentheses group expressions and curly brackets multiply (value or range by comma), e.g. 'my (cat|dog)', 'od{2}' \\\n",
        "question mark after optional character, e.g. 'bol?t' matches 'bot' and 'bolt'; 'a (big)? ship' \\\n",
        "star or plus matches zero (one) or more of the preceding character, e.g. 'so+t' matches 'sot', 'sooot', etc, but not 'st' \\\n",
        "anchor symbols hat '^' and dollar sign '$' require that match initiate/end string "
      ]
    },
    {
      "cell_type": "code",
      "execution_count": 12,
      "metadata": {
        "collapsed": true,
        "id": "_lAyZD9mBnP-",
        "outputId": "f32fe20e-7256-4a3a-f167-bf5d70b83cf5"
      },
      "outputs": [
        {
          "data": {
            "text/html": [
              "<div>\n",
              "<style scoped>\n",
              "    .dataframe tbody tr th:only-of-type {\n",
              "        vertical-align: middle;\n",
              "    }\n",
              "\n",
              "    .dataframe tbody tr th {\n",
              "        vertical-align: top;\n",
              "    }\n",
              "\n",
              "    .dataframe thead th {\n",
              "        text-align: right;\n",
              "    }\n",
              "</style>\n",
              "<table border=\"1\" class=\"dataframe\">\n",
              "  <thead>\n",
              "    <tr style=\"text-align: right;\">\n",
              "      <th></th>\n",
              "      <th>A</th>\n",
              "      <th>A_contains_Co</th>\n",
              "      <th>B</th>\n",
              "      <th>contains_dollar</th>\n",
              "      <th>contains_slash_begin</th>\n",
              "      <th>begins_slash</th>\n",
              "    </tr>\n",
              "  </thead>\n",
              "  <tbody>\n",
              "    <tr>\n",
              "      <th>0</th>\n",
              "      <td>Cat</td>\n",
              "      <td>False</td>\n",
              "      <td>$100</td>\n",
              "      <td>True</td>\n",
              "      <td>False</td>\n",
              "      <td>False</td>\n",
              "    </tr>\n",
              "    <tr>\n",
              "      <th>1</th>\n",
              "      <td>Dog</td>\n",
              "      <td>False</td>\n",
              "      <td>\\begin{enumerate}</td>\n",
              "      <td>False</td>\n",
              "      <td>True</td>\n",
              "      <td>True</td>\n",
              "    </tr>\n",
              "    <tr>\n",
              "      <th>2</th>\n",
              "      <td>Fish</td>\n",
              "      <td>False</td>\n",
              "      <td>\\end{enumerate}</td>\n",
              "      <td>False</td>\n",
              "      <td>False</td>\n",
              "      <td>True</td>\n",
              "    </tr>\n",
              "    <tr>\n",
              "      <th>3</th>\n",
              "      <td>Cow</td>\n",
              "      <td>True</td>\n",
              "      <td>$50 \\end</td>\n",
              "      <td>True</td>\n",
              "      <td>False</td>\n",
              "      <td>False</td>\n",
              "    </tr>\n",
              "  </tbody>\n",
              "</table>\n",
              "</div>"
            ],
            "text/plain": [
              "      A  A_contains_Co                  B  contains_dollar  \\\n",
              "0   Cat          False               $100             True   \n",
              "1   Dog          False  \\begin{enumerate}            False   \n",
              "2  Fish          False    \\end{enumerate}            False   \n",
              "3   Cow           True           $50 \\end             True   \n",
              "\n",
              "   contains_slash_begin  begins_slash  \n",
              "0                 False         False  \n",
              "1                  True          True  \n",
              "2                 False          True  \n",
              "3                 False         False  "
            ]
          },
          "execution_count": 12,
          "metadata": {},
          "output_type": "execute_result"
        }
      ],
      "source": [
        "df = pd.DataFrame({'A':['Cat', 'Dog', 'Fish', 'Cow'], 'B':['$100', r'\\begin{enumerate}', '\\\\end{enumerate}', '$50 \\end']})\n",
        "df.insert(1, 'A_contains_Co', df.A.str.contains('Co'))\n",
        "df['contains_dollar'] = df.B.str.contains('\\$')\n",
        "df['contains_slash_begin'] = df.B.str.contains(r'\\\\begin{enumerate}')#, regex=True)\n",
        "df['begins_slash'] = df.B.str.contains(r'^\\\\')\n",
        "df"
      ]
    },
    {
      "cell_type": "code",
      "execution_count": 13,
      "metadata": {
        "collapsed": true,
        "id": "SMNJDb_8BnQC",
        "outputId": "887e43b9-3286-4df2-901f-0fcff5d77650"
      },
      "outputs": [
        {
          "data": {
            "text/html": [
              "<div>\n",
              "<style scoped>\n",
              "    .dataframe tbody tr th:only-of-type {\n",
              "        vertical-align: middle;\n",
              "    }\n",
              "\n",
              "    .dataframe tbody tr th {\n",
              "        vertical-align: top;\n",
              "    }\n",
              "\n",
              "    .dataframe thead th {\n",
              "        text-align: right;\n",
              "    }\n",
              "</style>\n",
              "<table border=\"1\" class=\"dataframe\">\n",
              "  <thead>\n",
              "    <tr style=\"text-align: right;\">\n",
              "      <th></th>\n",
              "      <th>pset_ID</th>\n",
              "      <th>Q</th>\n",
              "      <th>match nline</th>\n",
              "      <th>contains nline</th>\n",
              "    </tr>\n",
              "  </thead>\n",
              "  <tbody>\n",
              "    <tr>\n",
              "      <th>0</th>\n",
              "      <td>100</td>\n",
              "      <td>\\n</td>\n",
              "      <td>True</td>\n",
              "      <td>True</td>\n",
              "    </tr>\n",
              "    <tr>\n",
              "      <th>1</th>\n",
              "      <td>101</td>\n",
              "      <td>\\n x   \\n</td>\n",
              "      <td>True</td>\n",
              "      <td>True</td>\n",
              "    </tr>\n",
              "    <tr>\n",
              "      <th>2</th>\n",
              "      <td>102</td>\n",
              "      <td>\\n</td>\n",
              "      <td>False</td>\n",
              "      <td>True</td>\n",
              "    </tr>\n",
              "    <tr>\n",
              "      <th>3</th>\n",
              "      <td>103</td>\n",
              "      <td>\\begin{enumerate}</td>\n",
              "      <td>False</td>\n",
              "      <td>False</td>\n",
              "    </tr>\n",
              "    <tr>\n",
              "      <th>4</th>\n",
              "      <td>104</td>\n",
              "      <td>\\end{enumerate}</td>\n",
              "      <td>False</td>\n",
              "      <td>False</td>\n",
              "    </tr>\n",
              "    <tr>\n",
              "      <th>5</th>\n",
              "      <td>105</td>\n",
              "      <td>\\n \\end</td>\n",
              "      <td>False</td>\n",
              "      <td>False</td>\n",
              "    </tr>\n",
              "  </tbody>\n",
              "</table>\n",
              "</div>"
            ],
            "text/plain": [
              "   pset_ID                  Q  match nline  contains nline\n",
              "0      100                 \\n         True            True\n",
              "1      101          \\n x   \\n         True            True\n",
              "2      102                 \\n        False            True\n",
              "3      103  \\begin{enumerate}        False           False\n",
              "4      104    \\end{enumerate}        False           False\n",
              "5      105            \\n \\end        False           False"
            ]
          },
          "execution_count": 13,
          "metadata": {},
          "output_type": "execute_result"
        }
      ],
      "source": [
        "df = pd.DataFrame({'pset_ID':range(100,106), 'Q':[r'\\n', r'\\n x   \\n', r'  \\n', r'\\begin{enumerate}', '\\\\end{enumerate}', '\\n \\end']})\n",
        "df.Q.str.extract(r'([\\\\n]?[\\s]*[\\\\n]?)(enum\\w*)', expand=True)\n",
        "df[r'match nline'] = df.Q.str.match(r'\\\\n')\n",
        "df[r'contains nline'] = df.Q.str.contains(r'\\\\n')\n",
        "df\n"
      ]
    },
    {
      "cell_type": "code",
      "execution_count": 14,
      "metadata": {
        "collapsed": true,
        "id": "QeItHl1cBnQH",
        "outputId": "00a3b368-5e58-4080-893c-ffdee8ad94ea"
      },
      "outputs": [
        {
          "name": "stdout",
          "output_type": "stream",
          "text": [
            "pset_ID     int64\n",
            "Q          object\n",
            "dtype: object\n",
            "   pset_ID                  Q\n",
            "1      101           \\n    \\n\n",
            "2      102                 \\n\n",
            "3      103  \\begin{enumerate}\n",
            "4      104    \\end{enumerate}\n",
            "5      105            \\n \\end\n"
          ]
        },
        {
          "data": {
            "text/plain": [
              "0    False\n",
              "1    False\n",
              "2     True\n",
              "3    False\n",
              "4    False\n",
              "5     True\n",
              "Name: Q, dtype: bool"
            ]
          },
          "execution_count": 14,
          "metadata": {},
          "output_type": "execute_result"
        }
      ],
      "source": [
        "df = pd.DataFrame({'pset_ID':range(100,106), 'Q':[r'\\n', r'\\n    \\n', r'  \\n', r'\\begin{enumerate}', '\\\\end{enumerate}', '\\n \\end']})\n",
        "print(df.dtypes)\n",
        "print(df[df.Q != r'\\n'])\n",
        "df.Q.str.match('\\s')\n"
      ]
    },
    {
      "cell_type": "code",
      "execution_count": 15,
      "metadata": {
        "collapsed": true,
        "id": "qyQxJx5EBnQK",
        "outputId": "9fcf5e7c-284b-44e0-9f11-eefa85edcdea"
      },
      "outputs": [
        {
          "name": "stdout",
          "output_type": "stream",
          "text": [
            "   Name       A       B\n",
            "0   Cat    $400    $100\n",
            "1   Dog    $100  $2,000\n",
            "2  Fish  $2,000    None\n",
            "3   Cow    None  $5,000 \n",
            "\n",
            "   Name       A       B\n",
            "0   Cat   400.0    $100\n",
            "1   Dog   100.0  $2,000\n",
            "2  Fish  2000.0    None \n",
            "\n",
            "   Name   A       B\n",
            "3  Cow NaN  $5,000\n"
          ]
        },
        {
          "data": {
            "text/plain": [
              "833.3333333333334"
            ]
          },
          "execution_count": 15,
          "metadata": {},
          "output_type": "execute_result"
        }
      ],
      "source": [
        "# Clean numeric data as strings with dollar signs and commas, NaNs\n",
        "df = pd.DataFrame({'Name':['Cat', 'Dog', 'Fish', 'Cow'],'A':['$400', '$100', '$2,000', 'None'], 'B':['$100', '$2,000', 'None', '$5,000']})\n",
        "print(df, '\\n')\n",
        "df.A = df.A.apply(lambda x: x if x == 'None' else float(x.replace('$', '').replace(',','')))\n",
        "df.A = df.A.apply(pd.to_numeric, errors='coerce') #replace string values with NaNs\n",
        "\n",
        "# df['Value'] = df.Value.replace('[\\$,]','',regex=True).astype(float) #alternative\n",
        "print(df[df.A.notnull()], '\\n'*2, df[df.A.isnull()])\n",
        "df.A.mean()"
      ]
    },
    {
      "cell_type": "code",
      "execution_count": 16,
      "metadata": {
        "collapsed": true,
        "id": "pZ9nlgQQBnQP",
        "outputId": "a4663e6d-08ba-4150-b149-b7c96d9b8885"
      },
      "outputs": [
        {
          "name": "stdout",
          "output_type": "stream",
          "text": [
            "   nums letters\n",
            "0     1       a\n",
            "1     3       b\n",
            "2     5       f\n",
            "3     7       g \n",
            "    nums doubles\n",
            "0     1      xx\n",
            "1     3      yy\n",
            "2     9      ww \n",
            "    nums doubles\n",
            "0     5      mm\n",
            "1    11      pp\n",
            "   nums letters doubles\n",
            "0     1       a      xx\n",
            "1     3       b      yy\n"
          ]
        },
        {
          "data": {
            "text/html": [
              "<div>\n",
              "<style scoped>\n",
              "    .dataframe tbody tr th:only-of-type {\n",
              "        vertical-align: middle;\n",
              "    }\n",
              "\n",
              "    .dataframe tbody tr th {\n",
              "        vertical-align: top;\n",
              "    }\n",
              "\n",
              "    .dataframe thead th {\n",
              "        text-align: right;\n",
              "    }\n",
              "</style>\n",
              "<table border=\"1\" class=\"dataframe\">\n",
              "  <thead>\n",
              "    <tr style=\"text-align: right;\">\n",
              "      <th></th>\n",
              "      <th>nums</th>\n",
              "      <th>doubles</th>\n",
              "    </tr>\n",
              "  </thead>\n",
              "  <tbody>\n",
              "    <tr>\n",
              "      <th>0</th>\n",
              "      <td>1</td>\n",
              "      <td>xx</td>\n",
              "    </tr>\n",
              "    <tr>\n",
              "      <th>1</th>\n",
              "      <td>3</td>\n",
              "      <td>yy</td>\n",
              "    </tr>\n",
              "    <tr>\n",
              "      <th>2</th>\n",
              "      <td>9</td>\n",
              "      <td>ww</td>\n",
              "    </tr>\n",
              "    <tr>\n",
              "      <th>3</th>\n",
              "      <td>5</td>\n",
              "      <td>mm</td>\n",
              "    </tr>\n",
              "    <tr>\n",
              "      <th>4</th>\n",
              "      <td>11</td>\n",
              "      <td>pp</td>\n",
              "    </tr>\n",
              "  </tbody>\n",
              "</table>\n",
              "</div>"
            ],
            "text/plain": [
              "   nums doubles\n",
              "0     1      xx\n",
              "1     3      yy\n",
              "2     9      ww\n",
              "3     5      mm\n",
              "4    11      pp"
            ]
          },
          "execution_count": 16,
          "metadata": {},
          "output_type": "execute_result"
        }
      ],
      "source": [
        "# Merge and concatenate dataframes\n",
        "df1 = pd.DataFrame({'nums':[1,3,5,7],'letters':['a','b','f','g']})\n",
        "df2 = pd.DataFrame([[1,'xx'],[3,'yy'],[9,'ww']], columns=['nums','doubles'])\n",
        "df3 = pd.DataFrame([(5,'mm'),(11,'pp')], columns=['nums','doubles'])\n",
        "print(df1, '\\n', df2, '\\n', df3)\n",
        "\n",
        "print(pd.merge(df1, df2)) # how=inner, left, right, outer; left_on, right_on\n",
        "pd.concat([df2, df3]).reset_index(drop=True)"
      ]
    },
    {
      "cell_type": "code",
      "execution_count": 17,
      "metadata": {
        "collapsed": true,
        "id": "q_rQWOVDBnQS",
        "outputId": "2aef2c37-f438-4a79-ffd1-a81c3ebcc247"
      },
      "outputs": [
        {
          "name": "stdout",
          "output_type": "stream",
          "text": [
            "   A  B         list_col\n",
            "0  1  a            [1,3]\n",
            "1  2  b  [\"d\", \"e\", \"f\"]\n",
            "2  3  c        [3, 4, 5] \n",
            " list_col is of type:  <class 'str'> \n",
            "\n",
            "   A  B   list_col\n",
            "0  1  a     [1, 3]\n",
            "1  2  b  [d, e, f]\n",
            "2  3  c  [3, 4, 5] \n",
            " list_col is of type:  <class 'list'> \n",
            "\n"
          ]
        }
      ],
      "source": [
        "# I/O\n",
        "#df = pd.read_csv(url_or_filename, index_col='column_name') # usecols=['col1', 'col2']\n",
        "\n",
        "#objects are stored as strings, so must be converted back to objects\n",
        "#or convert on read: df = pd.read_csv(file, converters={'list_col':literal_eval})\n",
        "from ast import literal_eval\n",
        "df = pd.DataFrame({'A':[1, 2, 3], 'B':['a', 'b', 'c'], 'list_col':['[1,3]','[\"d\", \"e\", \"f\"]', '[3, 4, 5]']})\n",
        "print(df, '\\n list_col is of type: ', type(df.loc[2,'list_col']), '\\n')\n",
        "df.list_col = df.list_col.apply(literal_eval)\n",
        "print(df, '\\n list_col is of type: ', type(df.loc[2,'list_col']), '\\n')"
      ]
    },
    {
      "cell_type": "code",
      "execution_count": 19,
      "metadata": {
        "collapsed": true,
        "id": "XaSEhhD5BnQV",
        "outputId": "dd6deffc-5f94-4807-9bc4-f51d259ee8ef"
      },
      "outputs": [
        {
          "name": "stdout",
          "output_type": "stream",
          "text": [
            "/Users/chris/GitHub/course-files/IB2023\n",
            "/Users/chris/GitHub/course-files/IB2023\n",
            "/Users/chris/GitHub/course-files/IB2023\n"
          ]
        },
        {
          "data": {
            "application/json": {
              "cell": {
                "!": "OSMagics",
                "HTML": "Other",
                "SVG": "Other",
                "bash": "Other",
                "capture": "ExecutionMagics",
                "debug": "ExecutionMagics",
                "file": "Other",
                "html": "DisplayMagics",
                "javascript": "DisplayMagics",
                "js": "DisplayMagics",
                "latex": "DisplayMagics",
                "markdown": "DisplayMagics",
                "perl": "Other",
                "prun": "ExecutionMagics",
                "pypy": "Other",
                "python": "Other",
                "python2": "Other",
                "python3": "Other",
                "ruby": "Other",
                "script": "ScriptMagics",
                "sh": "Other",
                "svg": "DisplayMagics",
                "sx": "OSMagics",
                "system": "OSMagics",
                "time": "ExecutionMagics",
                "timeit": "ExecutionMagics",
                "writefile": "OSMagics"
              },
              "line": {
                "alias": "OSMagics",
                "alias_magic": "BasicMagics",
                "autoawait": "AsyncMagics",
                "autocall": "AutoMagics",
                "automagic": "AutoMagics",
                "autosave": "KernelMagics",
                "bookmark": "OSMagics",
                "cat": "Other",
                "cd": "OSMagics",
                "clear": "KernelMagics",
                "colors": "BasicMagics",
                "conda": "PackagingMagics",
                "config": "ConfigMagics",
                "connect_info": "KernelMagics",
                "cp": "Other",
                "debug": "ExecutionMagics",
                "dhist": "OSMagics",
                "dirs": "OSMagics",
                "doctest_mode": "BasicMagics",
                "ed": "Other",
                "edit": "KernelMagics",
                "env": "OSMagics",
                "gui": "BasicMagics",
                "hist": "Other",
                "history": "HistoryMagics",
                "killbgscripts": "ScriptMagics",
                "ldir": "Other",
                "less": "KernelMagics",
                "lf": "Other",
                "lk": "Other",
                "ll": "Other",
                "load": "CodeMagics",
                "load_ext": "ExtensionMagics",
                "loadpy": "CodeMagics",
                "logoff": "LoggingMagics",
                "logon": "LoggingMagics",
                "logstart": "LoggingMagics",
                "logstate": "LoggingMagics",
                "logstop": "LoggingMagics",
                "ls": "Other",
                "lsmagic": "BasicMagics",
                "lx": "Other",
                "macro": "ExecutionMagics",
                "magic": "BasicMagics",
                "man": "KernelMagics",
                "matplotlib": "PylabMagics",
                "mkdir": "Other",
                "more": "KernelMagics",
                "mv": "Other",
                "notebook": "BasicMagics",
                "page": "BasicMagics",
                "pastebin": "CodeMagics",
                "pdb": "ExecutionMagics",
                "pdef": "NamespaceMagics",
                "pdoc": "NamespaceMagics",
                "pfile": "NamespaceMagics",
                "pinfo": "NamespaceMagics",
                "pinfo2": "NamespaceMagics",
                "pip": "PackagingMagics",
                "popd": "OSMagics",
                "pprint": "BasicMagics",
                "precision": "BasicMagics",
                "prun": "ExecutionMagics",
                "psearch": "NamespaceMagics",
                "psource": "NamespaceMagics",
                "pushd": "OSMagics",
                "pwd": "OSMagics",
                "pycat": "OSMagics",
                "pylab": "PylabMagics",
                "qtconsole": "KernelMagics",
                "quickref": "BasicMagics",
                "recall": "HistoryMagics",
                "rehashx": "OSMagics",
                "reload_ext": "ExtensionMagics",
                "rep": "Other",
                "rerun": "HistoryMagics",
                "reset": "NamespaceMagics",
                "reset_selective": "NamespaceMagics",
                "rm": "Other",
                "rmdir": "Other",
                "run": "ExecutionMagics",
                "save": "CodeMagics",
                "sc": "OSMagics",
                "set_env": "OSMagics",
                "store": "StoreMagics",
                "sx": "OSMagics",
                "system": "OSMagics",
                "tb": "ExecutionMagics",
                "time": "ExecutionMagics",
                "timeit": "ExecutionMagics",
                "unalias": "OSMagics",
                "unload_ext": "ExtensionMagics",
                "who": "NamespaceMagics",
                "who_ls": "NamespaceMagics",
                "whos": "NamespaceMagics",
                "xdel": "NamespaceMagics",
                "xmode": "BasicMagics"
              }
            },
            "text/plain": [
              "Available line magics:\n",
              "%alias  %alias_magic  %autoawait  %autocall  %automagic  %autosave  %bookmark  %cat  %cd  %clear  %colors  %conda  %config  %connect_info  %cp  %debug  %dhist  %dirs  %doctest_mode  %ed  %edit  %env  %gui  %hist  %history  %killbgscripts  %ldir  %less  %lf  %lk  %ll  %load  %load_ext  %loadpy  %logoff  %logon  %logstart  %logstate  %logstop  %ls  %lsmagic  %lx  %macro  %magic  %man  %matplotlib  %mkdir  %more  %mv  %notebook  %page  %pastebin  %pdb  %pdef  %pdoc  %pfile  %pinfo  %pinfo2  %pip  %popd  %pprint  %precision  %prun  %psearch  %psource  %pushd  %pwd  %pycat  %pylab  %qtconsole  %quickref  %recall  %rehashx  %reload_ext  %rep  %rerun  %reset  %reset_selective  %rm  %rmdir  %run  %save  %sc  %set_env  %store  %sx  %system  %tb  %time  %timeit  %unalias  %unload_ext  %who  %who_ls  %whos  %xdel  %xmode\n",
              "\n",
              "Available cell magics:\n",
              "%%!  %%HTML  %%SVG  %%bash  %%capture  %%debug  %%file  %%html  %%javascript  %%js  %%latex  %%markdown  %%perl  %%prun  %%pypy  %%python  %%python2  %%python3  %%ruby  %%script  %%sh  %%svg  %%sx  %%system  %%time  %%timeit  %%writefile\n",
              "\n",
              "Automagic is ON, % prefix IS NOT needed for line magics."
            ]
          },
          "execution_count": 19,
          "metadata": {},
          "output_type": "execute_result"
        }
      ],
      "source": [
        "# Jupyter magic\n",
        "!pwd #run shell command\n",
        "%cd /Users/chris/GitHub/course-files/IB2023\n",
        "!pwd\n",
        "\n",
        "%lsmagic"
      ]
    },
    {
      "cell_type": "code",
      "execution_count": 20,
      "metadata": {
        "id": "e8-dfm0UBnQY"
      },
      "outputs": [
        {
          "name": "stdout",
          "output_type": "stream",
          "text": [
            "zsh:1: no such file or directory: notebook\n"
          ]
        }
      ],
      "source": [
        "# View -> Cell Toolbar -> Slideshow (shows selection menu for which cells to display)\n",
        "!jupyter nbconvert <notebook name> --to slides --post serve #render slides (can be run in terminal)"
      ]
    },
    {
      "cell_type": "code",
      "execution_count": 21,
      "metadata": {
        "collapsed": true,
        "id": "O7SiVrb3BnQb",
        "outputId": "afe97e10-1342-48ec-fa6c-8ffc439c3bc8"
      },
      "outputs": [
        {
          "data": {
            "text/html": [
              "<div>\n",
              "<style scoped>\n",
              "    .dataframe tbody tr th:only-of-type {\n",
              "        vertical-align: middle;\n",
              "    }\n",
              "\n",
              "    .dataframe tbody tr th {\n",
              "        vertical-align: top;\n",
              "    }\n",
              "\n",
              "    .dataframe thead th {\n",
              "        text-align: right;\n",
              "    }\n",
              "</style>\n",
              "<table border=\"1\" class=\"dataframe\">\n",
              "  <thead>\n",
              "    <tr style=\"text-align: right;\">\n",
              "      <th></th>\n",
              "      <th>2</th>\n",
              "      <th>Monday</th>\n",
              "      <th>red</th>\n",
              "      <th>5.2</th>\n",
              "    </tr>\n",
              "  </thead>\n",
              "  <tbody>\n",
              "    <tr>\n",
              "      <th>0</th>\n",
              "      <td>4</td>\n",
              "      <td>Tuesday</td>\n",
              "      <td>yellow</td>\n",
              "      <td>6.7</td>\n",
              "    </tr>\n",
              "    <tr>\n",
              "      <th>1</th>\n",
              "      <td>6</td>\n",
              "      <td>Wednesday</td>\n",
              "      <td>orange</td>\n",
              "      <td>8.3</td>\n",
              "    </tr>\n",
              "    <tr>\n",
              "      <th>2</th>\n",
              "      <td>8</td>\n",
              "      <td>Thursday</td>\n",
              "      <td>blue</td>\n",
              "      <td>11.4</td>\n",
              "    </tr>\n",
              "  </tbody>\n",
              "</table>\n",
              "</div>"
            ],
            "text/plain": [
              "   2     Monday     red   5.2\n",
              "0  4    Tuesday  yellow   6.7\n",
              "1  6  Wednesday  orange   8.3\n",
              "2  8   Thursday    blue  11.4"
            ]
          },
          "execution_count": 21,
          "metadata": {},
          "output_type": "execute_result"
        }
      ],
      "source": [
        "clipboard_df = pd.read_clipboard()\n",
        "clipboard_df"
      ]
    },
    {
      "cell_type": "code",
      "execution_count": null,
      "metadata": {
        "collapsed": true,
        "id": "P3qcFP90BnQg",
        "outputId": "020f6bd7-aeab-46d0-a892-c3bc5ac2a3aa"
      },
      "outputs": [
        {
          "data": {
            "text/html": [
              "<div>\n",
              "<style scoped>\n",
              "    .dataframe tbody tr th:only-of-type {\n",
              "        vertical-align: middle;\n",
              "    }\n",
              "\n",
              "    .dataframe tbody tr th {\n",
              "        vertical-align: top;\n",
              "    }\n",
              "\n",
              "    .dataframe thead th {\n",
              "        text-align: right;\n",
              "    }\n",
              "</style>\n",
              "<table border=\"1\" class=\"dataframe\">\n",
              "  <thead>\n",
              "    <tr style=\"text-align: right;\">\n",
              "      <th></th>\n",
              "      <th>speed</th>\n",
              "      <th>height</th>\n",
              "      <th>length</th>\n",
              "      <th>num_inversions</th>\n",
              "      <th>count</th>\n",
              "    </tr>\n",
              "    <tr>\n",
              "      <th>seating_type</th>\n",
              "      <th></th>\n",
              "      <th></th>\n",
              "      <th></th>\n",
              "      <th></th>\n",
              "      <th></th>\n",
              "    </tr>\n",
              "  </thead>\n",
              "  <tbody>\n",
              "    <tr>\n",
              "      <th>Sit Down</th>\n",
              "      <td>69.7589</td>\n",
              "      <td>26.0</td>\n",
              "      <td>597.0</td>\n",
              "      <td>1.0</td>\n",
              "      <td>2214</td>\n",
              "    </tr>\n",
              "    <tr>\n",
              "      <th>Spinning</th>\n",
              "      <td>50.0606</td>\n",
              "      <td>15.0</td>\n",
              "      <td>386.0</td>\n",
              "      <td>0.0</td>\n",
              "      <td>150</td>\n",
              "    </tr>\n",
              "    <tr>\n",
              "      <th>Inverted</th>\n",
              "      <td>80.0545</td>\n",
              "      <td>33.0</td>\n",
              "      <td>707.0</td>\n",
              "      <td>4.0</td>\n",
              "      <td>122</td>\n",
              "    </tr>\n",
              "    <tr>\n",
              "      <th>Suspended</th>\n",
              "      <td>53.9667</td>\n",
              "      <td>20.0</td>\n",
              "      <td>472.0</td>\n",
              "      <td>0.0</td>\n",
              "      <td>55</td>\n",
              "    </tr>\n",
              "    <tr>\n",
              "      <th>Alpine</th>\n",
              "      <td>38.3333</td>\n",
              "      <td>25.0</td>\n",
              "      <td>864.0</td>\n",
              "      <td>0.0</td>\n",
              "      <td>43</td>\n",
              "    </tr>\n",
              "    <tr>\n",
              "      <th>na</th>\n",
              "      <td></td>\n",
              "      <td>19.0</td>\n",
              "      <td>628.0</td>\n",
              "      <td>0.0</td>\n",
              "      <td>40</td>\n",
              "    </tr>\n",
              "    <tr>\n",
              "      <th>Water Coaster</th>\n",
              "      <td>76.05</td>\n",
              "      <td>30.0</td>\n",
              "      <td>498.0</td>\n",
              "      <td>0.0</td>\n",
              "      <td>29</td>\n",
              "    </tr>\n",
              "    <tr>\n",
              "      <th>Floorless</th>\n",
              "      <td>98.2083</td>\n",
              "      <td>46.0</td>\n",
              "      <td>944.0</td>\n",
              "      <td>4.0</td>\n",
              "      <td>27</td>\n",
              "    </tr>\n",
              "    <tr>\n",
              "      <th>Flying</th>\n",
              "      <td>70.125</td>\n",
              "      <td>30.0</td>\n",
              "      <td>733.0</td>\n",
              "      <td>3.0</td>\n",
              "      <td>27</td>\n",
              "    </tr>\n",
              "    <tr>\n",
              "      <th>Motorbike</th>\n",
              "      <td>71.4</td>\n",
              "      <td>17.0</td>\n",
              "      <td>549.0</td>\n",
              "      <td>0.0</td>\n",
              "      <td>21</td>\n",
              "    </tr>\n",
              "  </tbody>\n",
              "</table>\n",
              "</div>"
            ],
            "text/plain": [
              "                 speed  height  length  num_inversions  count\n",
              "seating_type                                                 \n",
              "Sit Down       69.7589    26.0   597.0             1.0   2214\n",
              "Spinning       50.0606    15.0   386.0             0.0    150\n",
              "Inverted       80.0545    33.0   707.0             4.0    122\n",
              "Suspended      53.9667    20.0   472.0             0.0     55\n",
              "Alpine         38.3333    25.0   864.0             0.0     43\n",
              "na                        19.0   628.0             0.0     40\n",
              "Water Coaster    76.05    30.0   498.0             0.0     29\n",
              "Floorless      98.2083    46.0   944.0             4.0     27\n",
              "Flying          70.125    30.0   733.0             3.0     27\n",
              "Motorbike         71.4    17.0   549.0             0.0     21"
            ]
          },
          "execution_count": 15,
          "metadata": {
            "tags": []
          },
          "output_type": "execute_result"
        }
      ],
      "source": [
        "cc = pd.read_csv('Codecademy/roller_coaster_starting/roller_coasters.csv') #captaincoasters.com\n",
        "seating_summary = cc.groupby('seating_type')[['speed', 'height', 'length', 'num_inversions']].mean()\n",
        "seating_summary['count'] = cc.groupby('seating_type').name.count()\n",
        "seating_summary.sort_values(by='count', inplace=True, ascending=False)\n",
        "seating_summary.fillna('').round()[:10]"
      ]
    },
    {
      "cell_type": "code",
      "execution_count": null,
      "metadata": {
        "collapsed": true,
        "id": "XtOppKXuBnQj",
        "outputId": "2acdd43a-e3db-4ce7-a69c-05fdeb6bb133"
      },
      "outputs": [
        {
          "data": {
            "text/html": [
              "<div>\n",
              "<style scoped>\n",
              "    .dataframe tbody tr th:only-of-type {\n",
              "        vertical-align: middle;\n",
              "    }\n",
              "\n",
              "    .dataframe tbody tr th {\n",
              "        vertical-align: top;\n",
              "    }\n",
              "\n",
              "    .dataframe thead th {\n",
              "        text-align: right;\n",
              "    }\n",
              "</style>\n",
              "<table border=\"1\" class=\"dataframe\">\n",
              "  <thead>\n",
              "    <tr style=\"text-align: right;\">\n",
              "      <th>material_type</th>\n",
              "      <th>Hybrid</th>\n",
              "      <th>Steel</th>\n",
              "      <th>Wooden</th>\n",
              "      <th>na</th>\n",
              "      <th>Total</th>\n",
              "    </tr>\n",
              "    <tr>\n",
              "      <th>manufacturer</th>\n",
              "      <th></th>\n",
              "      <th></th>\n",
              "      <th></th>\n",
              "      <th></th>\n",
              "      <th></th>\n",
              "    </tr>\n",
              "  </thead>\n",
              "  <tbody>\n",
              "    <tr>\n",
              "      <th>Vekoma</th>\n",
              "      <td></td>\n",
              "      <td>243</td>\n",
              "      <td>3</td>\n",
              "      <td>51</td>\n",
              "      <td>297.0</td>\n",
              "    </tr>\n",
              "    <tr>\n",
              "      <th>Zierer</th>\n",
              "      <td></td>\n",
              "      <td>126</td>\n",
              "      <td></td>\n",
              "      <td>14</td>\n",
              "      <td>140.0</td>\n",
              "    </tr>\n",
              "    <tr>\n",
              "      <th>Intamin</th>\n",
              "      <td></td>\n",
              "      <td>126</td>\n",
              "      <td>8</td>\n",
              "      <td>18</td>\n",
              "      <td>152.0</td>\n",
              "    </tr>\n",
              "    <tr>\n",
              "      <th>Mack</th>\n",
              "      <td></td>\n",
              "      <td>122</td>\n",
              "      <td></td>\n",
              "      <td>10</td>\n",
              "      <td>132.0</td>\n",
              "    </tr>\n",
              "    <tr>\n",
              "      <th>B&amp;M</th>\n",
              "      <td></td>\n",
              "      <td>121</td>\n",
              "      <td></td>\n",
              "      <td>8</td>\n",
              "      <td>129.0</td>\n",
              "    </tr>\n",
              "    <tr>\n",
              "      <th>Zamperla</th>\n",
              "      <td></td>\n",
              "      <td>120</td>\n",
              "      <td></td>\n",
              "      <td>40</td>\n",
              "      <td>160.0</td>\n",
              "    </tr>\n",
              "    <tr>\n",
              "      <th>Pinfari</th>\n",
              "      <td></td>\n",
              "      <td>108</td>\n",
              "      <td></td>\n",
              "      <td>26</td>\n",
              "      <td>134.0</td>\n",
              "    </tr>\n",
              "    <tr>\n",
              "      <th>Schwarzkopf</th>\n",
              "      <td></td>\n",
              "      <td>98</td>\n",
              "      <td>1</td>\n",
              "      <td>7</td>\n",
              "      <td>106.0</td>\n",
              "    </tr>\n",
              "  </tbody>\n",
              "</table>\n",
              "</div>"
            ],
            "text/plain": [
              "material_type Hybrid Steel Wooden  na  Total\n",
              "manufacturer                                \n",
              "Vekoma                 243      3  51  297.0\n",
              "Zierer                 126         14  140.0\n",
              "Intamin                126      8  18  152.0\n",
              "Mack                   122         10  132.0\n",
              "B&M                    121          8  129.0\n",
              "Zamperla               120         40  160.0\n",
              "Pinfari                108         26  134.0\n",
              "Schwarzkopf             98      1   7  106.0"
            ]
          },
          "execution_count": 49,
          "metadata": {
            "tags": []
          },
          "output_type": "execute_result"
        }
      ],
      "source": [
        "manu = cc.groupby(['manufacturer', 'material_type']).name.count().reset_index()\n",
        "manu_table = manu.pivot(columns='material_type', index='manufacturer', values='name')\n",
        "manu_table['Total'] = manu_table.sum(axis=1, skipna=True)\n",
        "manu_table[manu_table.index != 'na'].sort_values(by=['Steel', 'Total'], ascending=[False, True]).fillna('')[:8]"
      ]
    },
    {
      "cell_type": "code",
      "execution_count": 22,
      "metadata": {
        "collapsed": true,
        "id": "BeR_g_OSBnQm",
        "outputId": "f3d6caf5-da56-4270-cc19-d825599b4e23"
      },
      "outputs": [
        {
          "data": {
            "text/html": [
              "<div>\n",
              "<style scoped>\n",
              "    .dataframe tbody tr th:only-of-type {\n",
              "        vertical-align: middle;\n",
              "    }\n",
              "\n",
              "    .dataframe tbody tr th {\n",
              "        vertical-align: top;\n",
              "    }\n",
              "\n",
              "    .dataframe thead th {\n",
              "        text-align: right;\n",
              "    }\n",
              "</style>\n",
              "<table border=\"1\" class=\"dataframe\">\n",
              "  <thead>\n",
              "    <tr style=\"text-align: right;\">\n",
              "      <th></th>\n",
              "      <th>A</th>\n",
              "      <th>B</th>\n",
              "    </tr>\n",
              "  </thead>\n",
              "  <tbody>\n",
              "    <tr>\n",
              "      <th>0</th>\n",
              "      <td>11</td>\n",
              "      <td>dog</td>\n",
              "    </tr>\n",
              "    <tr>\n",
              "      <th>1</th>\n",
              "      <td>12</td>\n",
              "      <td>cat</td>\n",
              "    </tr>\n",
              "  </tbody>\n",
              "</table>\n",
              "</div>"
            ],
            "text/plain": [
              "    A    B\n",
              "0  11  dog\n",
              "1  12  cat"
            ]
          },
          "metadata": {},
          "output_type": "display_data"
        },
        {
          "data": {
            "text/html": [
              "<div>\n",
              "<style scoped>\n",
              "    .dataframe tbody tr th:only-of-type {\n",
              "        vertical-align: middle;\n",
              "    }\n",
              "\n",
              "    .dataframe tbody tr th {\n",
              "        vertical-align: top;\n",
              "    }\n",
              "\n",
              "    .dataframe thead th {\n",
              "        text-align: right;\n",
              "    }\n",
              "</style>\n",
              "<table border=\"1\" class=\"dataframe\">\n",
              "  <thead>\n",
              "    <tr style=\"text-align: right;\">\n",
              "      <th></th>\n",
              "      <th>A</th>\n",
              "      <th>B</th>\n",
              "    </tr>\n",
              "  </thead>\n",
              "  <tbody>\n",
              "    <tr>\n",
              "      <th>0</th>\n",
              "      <td>55</td>\n",
              "      <td>dog</td>\n",
              "    </tr>\n",
              "    <tr>\n",
              "      <th>1</th>\n",
              "      <td>12</td>\n",
              "      <td>cat</td>\n",
              "    </tr>\n",
              "  </tbody>\n",
              "</table>\n",
              "</div>"
            ],
            "text/plain": [
              "    A    B\n",
              "0  55  dog\n",
              "1  12  cat"
            ]
          },
          "metadata": {},
          "output_type": "display_data"
        },
        {
          "data": {
            "text/html": [
              "<div>\n",
              "<style scoped>\n",
              "    .dataframe tbody tr th:only-of-type {\n",
              "        vertical-align: middle;\n",
              "    }\n",
              "\n",
              "    .dataframe tbody tr th {\n",
              "        vertical-align: top;\n",
              "    }\n",
              "\n",
              "    .dataframe thead th {\n",
              "        text-align: right;\n",
              "    }\n",
              "</style>\n",
              "<table border=\"1\" class=\"dataframe\">\n",
              "  <thead>\n",
              "    <tr style=\"text-align: right;\">\n",
              "      <th></th>\n",
              "      <th>A</th>\n",
              "      <th>B</th>\n",
              "    </tr>\n",
              "  </thead>\n",
              "  <tbody>\n",
              "    <tr>\n",
              "      <th>0</th>\n",
              "      <td>55</td>\n",
              "      <td>dog</td>\n",
              "    </tr>\n",
              "    <tr>\n",
              "      <th>1</th>\n",
              "      <td>12</td>\n",
              "      <td>cat</td>\n",
              "    </tr>\n",
              "    <tr>\n",
              "      <th>2</th>\n",
              "      <td>13</td>\n",
              "      <td>cow</td>\n",
              "    </tr>\n",
              "  </tbody>\n",
              "</table>\n",
              "</div>"
            ],
            "text/plain": [
              "    A    B\n",
              "0  55  dog\n",
              "1  12  cat\n",
              "2  13  cow"
            ]
          },
          "metadata": {},
          "output_type": "display_data"
        }
      ],
      "source": [
        "# Copying\n",
        "original = [2, 4, 5, 6, 7]\n",
        "shallow_copy = original\n",
        "deep_copy = original[:] #for lists\n",
        "#print(original, '\\n', shallow_copy, '\\n', deep_copy)\n",
        "shallow_copy[2] = 'dog'\n",
        "#print(original, '\\n', shallow_copy, '\\n', deep_copy, '\\n'*2)\n",
        "\n",
        "df = pd.DataFrame({'A':[11, 12, 13], 'B':['dog', 'cat', 'cow']})\n",
        "df_shallow_copy = df.loc[0:1]  #slices are views (shallow copies)\n",
        "display(df_shallow_copy)\n",
        "df_deep_copy = df.copy() #for deep copy of dataframe\n",
        "df_shallow_copy.loc[0, 'A'] = 55\n",
        "display(df_shallow_copy, df)\n"
      ]
    },
    {
      "cell_type": "code",
      "execution_count": 23,
      "metadata": {
        "collapsed": true,
        "id": "RRmF-P41BnQq",
        "outputId": "f1949dc7-dac3-41e2-dcbd-42b8239abb39"
      },
      "outputs": [
        {
          "name": "stdout",
          "output_type": "stream",
          "text": [
            "['abc', '\\n', '\\\\n', '', '\\n', 'xyz', ' ', 'a12']\n",
            "['abc', '\\n', '\\\\n', '', '\\n', 'xyz', ' ', 'a12']\n"
          ]
        }
      ],
      "source": [
        "problems = ['abc', '\\n', r'\\n', '', '\\n', 'xyz', ' ', 'a12']\n",
        "print(problems)\n",
        "newline = [r'\\n']\n",
        "while True:\n",
        "    try: \n",
        "        problems.remove(newline)\n",
        "    except:\n",
        "        break\n",
        "empty = []\n",
        "while True:\n",
        "    try: \n",
        "        problems.remove(empty)\n",
        "    except:\n",
        "        break\n",
        "print(problems)"
      ]
    },
    {
      "cell_type": "code",
      "execution_count": 24,
      "metadata": {
        "collapsed": true,
        "id": "NeWv2-lHBnQt",
        "outputId": "973d0a0f-7224-40bb-c0ee-5b18e2acf3a1"
      },
      "outputs": [
        {
          "name": "stdout",
          "output_type": "stream",
          "text": [
            "abc 3\n",
            "\n",
            " 1\n",
            "\\n 2\n",
            " 0\n",
            "xyz 3\n",
            "  1\n",
            "a12 3\n"
          ]
        }
      ],
      "source": [
        "problems = ['abc', '\\n', r'\\n', '', '\\n\\n', 'xyz', ' ', 'a12']\n",
        "pat = '\\n\\n'\n",
        "problems.remove(pat)\n",
        "\n",
        "for p in problems:\n",
        "    print(p, len(p))"
      ]
    },
    {
      "cell_type": "code",
      "execution_count": null,
      "metadata": {
        "id": "4OL1ybBJBnQw"
      },
      "outputs": [],
      "source": []
    }
  ],
  "metadata": {
    "colab": {
      "collapsed_sections": [],
      "name": "Pandas_Notes_Oct18.ipynb",
      "provenance": []
    },
    "kernelspec": {
      "display_name": "Python 3.9.12 ('base')",
      "language": "python",
      "name": "python3"
    },
    "language_info": {
      "codemirror_mode": {
        "name": "ipython",
        "version": 3
      },
      "file_extension": ".py",
      "mimetype": "text/x-python",
      "name": "python",
      "nbconvert_exporter": "python",
      "pygments_lexer": "ipython3",
      "version": "3.9.12"
    },
    "vscode": {
      "interpreter": {
        "hash": "56941cacf15e8b05765996006082865469347c2b4cdce983108d1335de8b4245"
      }
    }
  },
  "nbformat": 4,
  "nbformat_minor": 0
}
